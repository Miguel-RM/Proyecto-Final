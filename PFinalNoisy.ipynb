{
 "cells": [
  {
   "cell_type": "markdown",
   "metadata": {},
   "source": [
    "<h2> Proyecto final</h2>"
   ]
  },
  {
   "cell_type": "code",
   "execution_count": 1,
   "metadata": {},
   "outputs": [],
   "source": [
    "from sklearn.preprocessing import StandardScaler\n",
    "from sklearn.model_selection import train_test_split\n",
    "import numpy as np\n",
    "import pandas as pd\n",
    "#%tensorflow_version 2.x\n",
    "import tensorflow as tf\n",
    "from tensorflow import keras\n",
    "from tensorflow.keras import layers\n",
    "from tensorflow.keras.callbacks import EarlyStopping\n",
    "from matplotlib import pyplot as plt"
   ]
  },
  {
   "cell_type": "code",
   "execution_count": 2,
   "metadata": {},
   "outputs": [],
   "source": [
    "def TS2DBS(TS, m, tau, delta):\n",
    "    N = len(TS)\n",
    "    DBSize = N-delta-(m-1)*tau\n",
    "    DB = np.array([TS[slice(i,i+m*tau,tau)] for i in range(DBSize)])\n",
    "    Y = np.array([TS[slice(i+m*tau,i+m*tau+delta,tau)] for i in range(DBSize)])\n",
    "    return DB,Y\n"
   ]
  },
  {
   "cell_type": "code",
   "execution_count": 3,
   "metadata": {},
   "outputs": [],
   "source": [
    "def plot_history(history):\n",
    "  hist = pd.DataFrame(history.history)\n",
    "  hist['epoch'] = history.epoch\n",
    "    \n",
    "  plt.figure()\n",
    "  plt.xlabel('Epoch')\n",
    "  plt.ylabel('Mean Square Error [$MPG^2$]')\n",
    "  plt.plot(hist['epoch'], hist['loss'],\n",
    "           label='Train Error')\n",
    "  plt.plot(hist['epoch'], hist['val_loss'],\n",
    "           label = 'Val Error')\n",
    "\n",
    "  #plt.ylim([0,20])\n",
    "  plt.legend(loc=\"upper right\")\n",
    "\n",
    "  plt.figure()\n",
    "  plt.xlabel('Epoch')\n",
    "  plt.ylabel('Precisión')\n",
    "  plt.plot(hist['epoch'], hist['acc'],\n",
    "           label='Train ACC')\n",
    "  plt.plot(hist['epoch'], hist['val_acc'],\n",
    "           label = 'Val ACC')\n",
    "  #plt.ylim([0,20])\n",
    "  plt.legend(loc=\"lower right\")\n",
    "  \n",
    "  plt.show()"
   ]
  },
  {
   "cell_type": "code",
   "execution_count": 4,
   "metadata": {},
   "outputs": [],
   "source": [
    "m = 64\n",
    "tau = 1\n",
    "delta = 2"
   ]
  },
  {
   "cell_type": "markdown",
   "metadata": {},
   "source": [
    "<h3>1) Series de tiempo y MLP </h3>"
   ]
  },
  {
   "cell_type": "markdown",
   "metadata": {},
   "source": [
    "Los datos de la serie de tiempo se encuentran en un archivo csv, por lo cual se utiliza pandas para leer los datos. Posteriormente se realiza una revición a los datos por medio del metodo info() con la finalidad de encontrar valores nulos"
   ]
  },
  {
   "cell_type": "code",
   "execution_count": 5,
   "metadata": {},
   "outputs": [],
   "source": [
    "TS = pd.read_csv('TimesSeries\\Electric_Production.csv')"
   ]
  },
  {
   "cell_type": "code",
   "execution_count": 6,
   "metadata": {},
   "outputs": [
    {
     "name": "stdout",
     "output_type": "stream",
     "text": [
      "<class 'pandas.core.frame.DataFrame'>\n",
      "RangeIndex: 397 entries, 0 to 396\n",
      "Data columns (total 2 columns):\n",
      "DATE     397 non-null object\n",
      "Value    397 non-null float64\n",
      "dtypes: float64(1), object(1)\n",
      "memory usage: 6.3+ KB\n"
     ]
    }
   ],
   "source": [
    "TS.info() # Se reviza que la serie de tiempo no tenga nulos"
   ]
  },
  {
   "cell_type": "code",
   "execution_count": 7,
   "metadata": {},
   "outputs": [],
   "source": [
    "serie = TS.Value"
   ]
  },
  {
   "cell_type": "code",
   "execution_count": 8,
   "metadata": {},
   "outputs": [
    {
     "data": {
      "text/plain": [
       "88.84721763224182"
      ]
     },
     "execution_count": 8,
     "metadata": {},
     "output_type": "execute_result"
    }
   ],
   "source": [
    "serie.mean()"
   ]
  },
  {
   "cell_type": "code",
   "execution_count": 9,
   "metadata": {
    "scrolled": true
   },
   "outputs": [
    {
     "data": {
      "text/plain": [
       "129.4048"
      ]
     },
     "execution_count": 9,
     "metadata": {},
     "output_type": "execute_result"
    }
   ],
   "source": [
    "serie.max()"
   ]
  },
  {
   "cell_type": "code",
   "execution_count": 10,
   "metadata": {},
   "outputs": [
    {
     "data": {
      "text/plain": [
       "55.3151"
      ]
     },
     "execution_count": 10,
     "metadata": {},
     "output_type": "execute_result"
    }
   ],
   "source": [
    "serie.min()"
   ]
  },
  {
   "cell_type": "code",
   "execution_count": 11,
   "metadata": {},
   "outputs": [
    {
     "data": {
      "text/plain": [
       "15.387833664730902"
      ]
     },
     "execution_count": 11,
     "metadata": {},
     "output_type": "execute_result"
    }
   ],
   "source": [
    "serie.std()"
   ]
  },
  {
   "cell_type": "markdown",
   "metadata": {},
   "source": [
    "Una vez que se ha revizado que la serie de tiempo no tiene valores nulos se aplica una estandarizacion a los datos, con la finalidad de mejorar el entrenamiento de la red neuronal MLP. Para realizar esta estandarizacion se utiliza la clase StandardScaler de Sklearn."
   ]
  },
  {
   "cell_type": "code",
   "execution_count": 12,
   "metadata": {},
   "outputs": [],
   "source": [
    "serie = (serie - serie.mean()) / serie.std()"
   ]
  },
  {
   "cell_type": "code",
   "execution_count": 13,
   "metadata": {},
   "outputs": [
    {
     "data": {
      "text/plain": [
       "-2.179131797421091"
      ]
     },
     "execution_count": 13,
     "metadata": {},
     "output_type": "execute_result"
    }
   ],
   "source": [
    "serie.min()"
   ]
  },
  {
   "cell_type": "markdown",
   "metadata": {},
   "source": [
    "Después de que se estandarizo para mantenerlo alrededor del cero, se aplica la función TS2DBS para obtener una base de datos a partir de la serie de tiempo."
   ]
  },
  {
   "cell_type": "code",
   "execution_count": 14,
   "metadata": {},
   "outputs": [],
   "source": [
    "X,y = TS2DBS(serie,m,tau,delta)"
   ]
  },
  {
   "cell_type": "code",
   "execution_count": 15,
   "metadata": {},
   "outputs": [
    {
     "data": {
      "text/plain": [
       "(332, 64)"
      ]
     },
     "execution_count": 15,
     "metadata": {},
     "output_type": "execute_result"
    }
   ],
   "source": [
    "X.shape"
   ]
  },
  {
   "cell_type": "code",
   "execution_count": 16,
   "metadata": {},
   "outputs": [
    {
     "data": {
      "text/plain": [
       "(332, 2)"
      ]
     },
     "execution_count": 16,
     "metadata": {},
     "output_type": "execute_result"
    }
   ],
   "source": [
    "y.shape"
   ]
  },
  {
   "cell_type": "markdown",
   "metadata": {},
   "source": [
    "Para terminar con el tratamiento de los datos se divide en train y test. Posteriormente del train se obtiene el validation"
   ]
  },
  {
   "cell_type": "code",
   "execution_count": 17,
   "metadata": {},
   "outputs": [],
   "source": [
    "X_train, X_test, y_train, y_test = train_test_split(\n",
    "    X, y, test_size=0.3, random_state=42)"
   ]
  },
  {
   "cell_type": "code",
   "execution_count": 18,
   "metadata": {},
   "outputs": [
    {
     "data": {
      "text/plain": [
       "(232, 64)"
      ]
     },
     "execution_count": 18,
     "metadata": {},
     "output_type": "execute_result"
    }
   ],
   "source": [
    "X_train.shape"
   ]
  },
  {
   "cell_type": "code",
   "execution_count": 19,
   "metadata": {},
   "outputs": [
    {
     "data": {
      "text/plain": [
       "(100, 64)"
      ]
     },
     "execution_count": 19,
     "metadata": {},
     "output_type": "execute_result"
    }
   ],
   "source": [
    "X_test.shape"
   ]
  },
  {
   "cell_type": "code",
   "execution_count": 20,
   "metadata": {},
   "outputs": [],
   "source": [
    "X_train, X_val, y_train, y_val = train_test_split(\n",
    "    X_train, y_train, test_size=0.2, random_state=42)"
   ]
  },
  {
   "cell_type": "code",
   "execution_count": 21,
   "metadata": {},
   "outputs": [
    {
     "data": {
      "text/plain": [
       "(185, 64)"
      ]
     },
     "execution_count": 21,
     "metadata": {},
     "output_type": "execute_result"
    }
   ],
   "source": [
    "X_train.shape"
   ]
  },
  {
   "cell_type": "code",
   "execution_count": 22,
   "metadata": {},
   "outputs": [
    {
     "data": {
      "text/plain": [
       "(47, 64)"
      ]
     },
     "execution_count": 22,
     "metadata": {},
     "output_type": "execute_result"
    }
   ],
   "source": [
    "X_val.shape"
   ]
  },
  {
   "cell_type": "code",
   "execution_count": 23,
   "metadata": {},
   "outputs": [
    {
     "data": {
      "text/plain": [
       "array([[-1.22078377, -1.51010325, -1.86437014, ..., -0.93058698,\n",
       "        -1.24794159, -1.40817857],\n",
       "       [ 0.9080669 ,  1.68052131,  1.60832141, ...,  1.66966208,\n",
       "         1.73310181,  0.90438217],\n",
       "       [-0.73369117, -1.00613367, -1.41002419, ..., -0.12422916,\n",
       "        -0.7555201 , -0.79053478],\n",
       "       ...,\n",
       "       [ 0.12805457,  0.2087027 ,  0.78766008, ...,  0.25429716,\n",
       "         0.79886374,  1.57192253],\n",
       "       [-1.28794072, -0.9974125 , -0.28147676, ..., -0.44206467,\n",
       "         0.21145162,  0.38633004],\n",
       "       [-1.29828656, -1.22046534, -1.60725143, ..., -0.7999708 ,\n",
       "        -1.07182843, -1.28794072]])"
      ]
     },
     "execution_count": 23,
     "metadata": {},
     "output_type": "execute_result"
    }
   ],
   "source": [
    "X_test"
   ]
  },
  {
   "cell_type": "markdown",
   "metadata": {},
   "source": [
    "<h3>Red Neuronal MLP</h3>"
   ]
  },
  {
   "cell_type": "markdown",
   "metadata": {},
   "source": [
    "Primeramente se crea la arquitectura de la red neuronal, para  esto se utiliza tensorflow en combinacion con keras"
   ]
  },
  {
   "cell_type": "code",
   "execution_count": 24,
   "metadata": {},
   "outputs": [
    {
     "name": "stdout",
     "output_type": "stream",
     "text": [
      "WARNING:tensorflow:From C:\\Users\\MARM\\Anaconda3\\envs\\tensorflow-gpu\\lib\\site-packages\\tensorflow_core\\python\\ops\\resource_variable_ops.py:1630: calling BaseResourceVariable.__init__ (from tensorflow.python.ops.resource_variable_ops) with constraint is deprecated and will be removed in a future version.\n",
      "Instructions for updating:\n",
      "If using Keras pass *_constraint arguments to layers.\n"
     ]
    }
   ],
   "source": [
    "inputs = keras.Input(shape=(m))\n",
    "x = layers.Dense(64, activation='sigmoid')(inputs)\n",
    "x = layers.Dense(128, activation='relu')(x)\n",
    "x = layers.Dense(256, activation='relu')(x)\n",
    "outputs = layers.Dense(delta, activation='linear')(x)\n",
    "\n",
    "model = keras.Model(inputs=inputs, outputs=outputs, name='forecasting')"
   ]
  },
  {
   "cell_type": "code",
   "execution_count": 25,
   "metadata": {},
   "outputs": [
    {
     "name": "stdout",
     "output_type": "stream",
     "text": [
      "Model: \"forecasting\"\n",
      "_________________________________________________________________\n",
      "Layer (type)                 Output Shape              Param #   \n",
      "=================================================================\n",
      "input_1 (InputLayer)         [(None, 64)]              0         \n",
      "_________________________________________________________________\n",
      "dense (Dense)                (None, 64)                4160      \n",
      "_________________________________________________________________\n",
      "dense_1 (Dense)              (None, 128)               8320      \n",
      "_________________________________________________________________\n",
      "dense_2 (Dense)              (None, 256)               33024     \n",
      "_________________________________________________________________\n",
      "dense_3 (Dense)              (None, 2)                 514       \n",
      "=================================================================\n",
      "Total params: 46,018\n",
      "Trainable params: 46,018\n",
      "Non-trainable params: 0\n",
      "_________________________________________________________________\n"
     ]
    }
   ],
   "source": [
    "model.summary()"
   ]
  },
  {
   "cell_type": "markdown",
   "metadata": {},
   "source": [
    "Una vez que el modelo esta creado se compila y se entrena"
   ]
  },
  {
   "cell_type": "code",
   "execution_count": 26,
   "metadata": {},
   "outputs": [],
   "source": [
    "model.compile(loss=\"mean_squared_error\", optimizer=\"sgd\", metrics=['accuracy'])"
   ]
  },
  {
   "cell_type": "code",
   "execution_count": 27,
   "metadata": {
    "scrolled": false
   },
   "outputs": [
    {
     "name": "stdout",
     "output_type": "stream",
     "text": [
      "Train on 185 samples, validate on 47 samples\n",
      "Epoch 1/200\n",
      "185/185 [==============================] - 0s 1ms/sample - loss: 0.7723 - acc: 0.4811 - val_loss: 0.5555 - val_acc: 0.4468\n",
      "Epoch 2/200\n",
      "185/185 [==============================] - 0s 59us/sample - loss: 0.6534 - acc: 0.5784 - val_loss: 0.4876 - val_acc: 0.6596\n",
      "Epoch 3/200\n",
      "185/185 [==============================] - 0s 65us/sample - loss: 0.5861 - acc: 0.7189 - val_loss: 0.4412 - val_acc: 0.7872\n",
      "Epoch 4/200\n",
      "185/185 [==============================] - 0s 70us/sample - loss: 0.5375 - acc: 0.8486 - val_loss: 0.4039 - val_acc: 0.8723\n",
      "Epoch 5/200\n",
      "185/185 [==============================] - 0s 59us/sample - loss: 0.4943 - acc: 0.8703 - val_loss: 0.3693 - val_acc: 0.8936\n",
      "Epoch 6/200\n",
      "185/185 [==============================] - 0s 59us/sample - loss: 0.4543 - acc: 0.8865 - val_loss: 0.3381 - val_acc: 0.8936\n",
      "Epoch 7/200\n",
      "185/185 [==============================] - 0s 62us/sample - loss: 0.4165 - acc: 0.8865 - val_loss: 0.3104 - val_acc: 0.8936\n",
      "Epoch 8/200\n",
      "185/185 [==============================] - 0s 70us/sample - loss: 0.3866 - acc: 0.8865 - val_loss: 0.2849 - val_acc: 0.8936\n",
      "Epoch 9/200\n",
      "185/185 [==============================] - 0s 59us/sample - loss: 0.3540 - acc: 0.8865 - val_loss: 0.2615 - val_acc: 0.8936\n",
      "Epoch 10/200\n",
      "185/185 [==============================] - 0s 70us/sample - loss: 0.3270 - acc: 0.8919 - val_loss: 0.2405 - val_acc: 0.8936\n",
      "Epoch 11/200\n",
      "185/185 [==============================] - 0s 70us/sample - loss: 0.3028 - acc: 0.8973 - val_loss: 0.2216 - val_acc: 0.8936\n",
      "Epoch 12/200\n",
      "185/185 [==============================] - 0s 75us/sample - loss: 0.2806 - acc: 0.8865 - val_loss: 0.2045 - val_acc: 0.8936\n",
      "Epoch 13/200\n",
      "185/185 [==============================] - 0s 62us/sample - loss: 0.2605 - acc: 0.8919 - val_loss: 0.1886 - val_acc: 0.8936\n",
      "Epoch 14/200\n",
      "185/185 [==============================] - 0s 70us/sample - loss: 0.2426 - acc: 0.8919 - val_loss: 0.1749 - val_acc: 0.8936\n",
      "Epoch 15/200\n",
      "185/185 [==============================] - 0s 65us/sample - loss: 0.2300 - acc: 0.8973 - val_loss: 0.1626 - val_acc: 0.8936\n",
      "Epoch 16/200\n",
      "185/185 [==============================] - 0s 70us/sample - loss: 0.2137 - acc: 0.9027 - val_loss: 0.1519 - val_acc: 0.8936\n",
      "Epoch 17/200\n",
      "185/185 [==============================] - 0s 70us/sample - loss: 0.2016 - acc: 0.9027 - val_loss: 0.1425 - val_acc: 0.8936\n",
      "Epoch 18/200\n",
      "185/185 [==============================] - 0s 59us/sample - loss: 0.1910 - acc: 0.8973 - val_loss: 0.1337 - val_acc: 0.9149\n",
      "Epoch 19/200\n",
      "185/185 [==============================] - 0s 65us/sample - loss: 0.1808 - acc: 0.9135 - val_loss: 0.1263 - val_acc: 0.8936\n",
      "Epoch 20/200\n",
      "185/185 [==============================] - 0s 59us/sample - loss: 0.1723 - acc: 0.9135 - val_loss: 0.1197 - val_acc: 0.9149\n",
      "Epoch 21/200\n",
      "185/185 [==============================] - 0s 75us/sample - loss: 0.1656 - acc: 0.9135 - val_loss: 0.1141 - val_acc: 0.9149\n",
      "Epoch 22/200\n",
      "185/185 [==============================] - 0s 65us/sample - loss: 0.1579 - acc: 0.9135 - val_loss: 0.1083 - val_acc: 0.9149\n",
      "Epoch 23/200\n",
      "185/185 [==============================] - 0s 81us/sample - loss: 0.1517 - acc: 0.9135 - val_loss: 0.1035 - val_acc: 0.9149\n",
      "Epoch 24/200\n",
      "185/185 [==============================] - 0s 70us/sample - loss: 0.1475 - acc: 0.9135 - val_loss: 0.0999 - val_acc: 0.9149\n",
      "Epoch 25/200\n",
      "185/185 [==============================] - 0s 70us/sample - loss: 0.1413 - acc: 0.9135 - val_loss: 0.0952 - val_acc: 0.9149\n",
      "Epoch 26/200\n",
      "185/185 [==============================] - 0s 70us/sample - loss: 0.1362 - acc: 0.9081 - val_loss: 0.0914 - val_acc: 0.9149\n",
      "Epoch 27/200\n",
      "185/185 [==============================] - 0s 75us/sample - loss: 0.1319 - acc: 0.9081 - val_loss: 0.0880 - val_acc: 0.9149\n",
      "Epoch 28/200\n",
      "185/185 [==============================] - 0s 75us/sample - loss: 0.1281 - acc: 0.9081 - val_loss: 0.0859 - val_acc: 0.9149\n",
      "Epoch 29/200\n",
      "185/185 [==============================] - 0s 75us/sample - loss: 0.1234 - acc: 0.9081 - val_loss: 0.0823 - val_acc: 0.9149\n",
      "Epoch 30/200\n",
      "185/185 [==============================] - 0s 70us/sample - loss: 0.1196 - acc: 0.9081 - val_loss: 0.0796 - val_acc: 0.9149\n",
      "Epoch 31/200\n",
      "185/185 [==============================] - 0s 70us/sample - loss: 0.1161 - acc: 0.9081 - val_loss: 0.0775 - val_acc: 0.9149\n",
      "Epoch 32/200\n",
      "185/185 [==============================] - 0s 70us/sample - loss: 0.1123 - acc: 0.9081 - val_loss: 0.0749 - val_acc: 0.9149\n",
      "Epoch 33/200\n",
      "185/185 [==============================] - 0s 81us/sample - loss: 0.1096 - acc: 0.9081 - val_loss: 0.0728 - val_acc: 0.9149\n",
      "Epoch 34/200\n",
      "185/185 [==============================] - 0s 70us/sample - loss: 0.1065 - acc: 0.9081 - val_loss: 0.0710 - val_acc: 0.9149\n",
      "Epoch 35/200\n",
      "185/185 [==============================] - 0s 75us/sample - loss: 0.1035 - acc: 0.9081 - val_loss: 0.0693 - val_acc: 0.9149\n",
      "Epoch 36/200\n",
      "185/185 [==============================] - 0s 75us/sample - loss: 0.1014 - acc: 0.9081 - val_loss: 0.0679 - val_acc: 0.9149\n",
      "Epoch 37/200\n",
      "185/185 [==============================] - 0s 81us/sample - loss: 0.0991 - acc: 0.9081 - val_loss: 0.0667 - val_acc: 0.9149\n",
      "Epoch 38/200\n",
      "185/185 [==============================] - 0s 70us/sample - loss: 0.0964 - acc: 0.9081 - val_loss: 0.0653 - val_acc: 0.9149\n",
      "Epoch 39/200\n",
      "185/185 [==============================] - 0s 75us/sample - loss: 0.0940 - acc: 0.9081 - val_loss: 0.0638 - val_acc: 0.9149\n",
      "Epoch 40/200\n",
      "185/185 [==============================] - 0s 70us/sample - loss: 0.0920 - acc: 0.9081 - val_loss: 0.0629 - val_acc: 0.9149\n",
      "Epoch 41/200\n",
      "185/185 [==============================] - 0s 75us/sample - loss: 0.0904 - acc: 0.9081 - val_loss: 0.0614 - val_acc: 0.9149\n",
      "Epoch 42/200\n",
      "185/185 [==============================] - 0s 65us/sample - loss: 0.0884 - acc: 0.9081 - val_loss: 0.0604 - val_acc: 0.9149\n",
      "Epoch 43/200\n",
      "185/185 [==============================] - 0s 75us/sample - loss: 0.0867 - acc: 0.9081 - val_loss: 0.0598 - val_acc: 0.9149\n",
      "Epoch 44/200\n",
      "185/185 [==============================] - 0s 65us/sample - loss: 0.0846 - acc: 0.9081 - val_loss: 0.0588 - val_acc: 0.9149\n",
      "Epoch 45/200\n",
      "185/185 [==============================] - 0s 65us/sample - loss: 0.0833 - acc: 0.9081 - val_loss: 0.0578 - val_acc: 0.9149\n",
      "Epoch 46/200\n",
      "185/185 [==============================] - 0s 65us/sample - loss: 0.0820 - acc: 0.9081 - val_loss: 0.0575 - val_acc: 0.9149\n",
      "Epoch 47/200\n",
      "185/185 [==============================] - 0s 59us/sample - loss: 0.0806 - acc: 0.9081 - val_loss: 0.0564 - val_acc: 0.9149\n",
      "Epoch 48/200\n",
      "185/185 [==============================] - 0s 65us/sample - loss: 0.0794 - acc: 0.9081 - val_loss: 0.0566 - val_acc: 0.9149\n",
      "Epoch 49/200\n",
      "185/185 [==============================] - 0s 70us/sample - loss: 0.0787 - acc: 0.9081 - val_loss: 0.0558 - val_acc: 0.9149\n",
      "Epoch 50/200\n",
      "185/185 [==============================] - 0s 65us/sample - loss: 0.0774 - acc: 0.9081 - val_loss: 0.0558 - val_acc: 0.9149\n",
      "Epoch 51/200\n",
      "185/185 [==============================] - 0s 70us/sample - loss: 0.0759 - acc: 0.9081 - val_loss: 0.0542 - val_acc: 0.9149\n",
      "Epoch 52/200\n",
      "185/185 [==============================] - 0s 75us/sample - loss: 0.0750 - acc: 0.9081 - val_loss: 0.0538 - val_acc: 0.9149\n",
      "Epoch 53/200\n",
      "185/185 [==============================] - 0s 65us/sample - loss: 0.0737 - acc: 0.9081 - val_loss: 0.0533 - val_acc: 0.9149\n",
      "Epoch 54/200\n",
      "185/185 [==============================] - 0s 81us/sample - loss: 0.0730 - acc: 0.9081 - val_loss: 0.0528 - val_acc: 0.9149\n",
      "Epoch 55/200\n",
      "185/185 [==============================] - 0s 65us/sample - loss: 0.0720 - acc: 0.9081 - val_loss: 0.0528 - val_acc: 0.9149\n",
      "Epoch 56/200\n",
      "185/185 [==============================] - 0s 70us/sample - loss: 0.0717 - acc: 0.9081 - val_loss: 0.0522 - val_acc: 0.9149\n",
      "Epoch 57/200\n",
      "185/185 [==============================] - 0s 59us/sample - loss: 0.0704 - acc: 0.9081 - val_loss: 0.0524 - val_acc: 0.9149\n",
      "Epoch 58/200\n",
      "185/185 [==============================] - 0s 59us/sample - loss: 0.0698 - acc: 0.9081 - val_loss: 0.0514 - val_acc: 0.9149\n",
      "Epoch 59/200\n",
      "185/185 [==============================] - 0s 70us/sample - loss: 0.0698 - acc: 0.9081 - val_loss: 0.0518 - val_acc: 0.9149\n",
      "Epoch 60/200\n"
     ]
    },
    {
     "name": "stdout",
     "output_type": "stream",
     "text": [
      "185/185 [==============================] - 0s 54us/sample - loss: 0.0687 - acc: 0.9081 - val_loss: 0.0515 - val_acc: 0.9149\n",
      "Epoch 61/200\n",
      "185/185 [==============================] - 0s 70us/sample - loss: 0.0676 - acc: 0.9081 - val_loss: 0.0508 - val_acc: 0.9149\n",
      "Epoch 62/200\n",
      "185/185 [==============================] - 0s 65us/sample - loss: 0.0669 - acc: 0.9081 - val_loss: 0.0505 - val_acc: 0.9149\n",
      "Epoch 63/200\n",
      "185/185 [==============================] - 0s 59us/sample - loss: 0.0666 - acc: 0.9081 - val_loss: 0.0501 - val_acc: 0.9149\n",
      "Epoch 64/200\n",
      "185/185 [==============================] - 0s 49us/sample - loss: 0.0668 - acc: 0.9081 - val_loss: 0.0502 - val_acc: 0.9149\n",
      "Epoch 65/200\n",
      "185/185 [==============================] - 0s 59us/sample - loss: 0.0657 - acc: 0.9081 - val_loss: 0.0497 - val_acc: 0.9149\n",
      "Epoch 66/200\n",
      "185/185 [==============================] - 0s 70us/sample - loss: 0.0649 - acc: 0.9081 - val_loss: 0.0501 - val_acc: 0.9149\n",
      "Epoch 67/200\n",
      "185/185 [==============================] - 0s 65us/sample - loss: 0.0646 - acc: 0.9081 - val_loss: 0.0494 - val_acc: 0.9149\n",
      "Epoch 68/200\n",
      "185/185 [==============================] - 0s 59us/sample - loss: 0.0645 - acc: 0.9081 - val_loss: 0.0502 - val_acc: 0.9149\n",
      "Epoch 69/200\n",
      "185/185 [==============================] - 0s 65us/sample - loss: 0.0637 - acc: 0.9081 - val_loss: 0.0487 - val_acc: 0.9149\n",
      "Epoch 70/200\n",
      "185/185 [==============================] - 0s 65us/sample - loss: 0.0631 - acc: 0.9081 - val_loss: 0.0487 - val_acc: 0.9149\n",
      "Epoch 71/200\n",
      "185/185 [==============================] - 0s 70us/sample - loss: 0.0630 - acc: 0.9081 - val_loss: 0.0486 - val_acc: 0.9149\n",
      "Epoch 72/200\n",
      "185/185 [==============================] - 0s 65us/sample - loss: 0.0625 - acc: 0.9081 - val_loss: 0.0483 - val_acc: 0.9149\n",
      "Epoch 73/200\n",
      "185/185 [==============================] - 0s 59us/sample - loss: 0.0623 - acc: 0.9081 - val_loss: 0.0486 - val_acc: 0.9149\n",
      "Epoch 74/200\n",
      "185/185 [==============================] - 0s 59us/sample - loss: 0.0617 - acc: 0.9081 - val_loss: 0.0482 - val_acc: 0.9149\n",
      "Epoch 75/200\n",
      "185/185 [==============================] - 0s 70us/sample - loss: 0.0610 - acc: 0.9081 - val_loss: 0.0479 - val_acc: 0.9149\n",
      "Epoch 76/200\n",
      "185/185 [==============================] - 0s 54us/sample - loss: 0.0613 - acc: 0.9081 - val_loss: 0.0485 - val_acc: 0.9149\n",
      "Epoch 77/200\n",
      "185/185 [==============================] - 0s 81us/sample - loss: 0.0602 - acc: 0.9081 - val_loss: 0.0474 - val_acc: 0.9149\n",
      "Epoch 78/200\n",
      "185/185 [==============================] - 0s 70us/sample - loss: 0.0598 - acc: 0.9081 - val_loss: 0.0472 - val_acc: 0.9149\n",
      "Epoch 79/200\n",
      "185/185 [==============================] - 0s 75us/sample - loss: 0.0599 - acc: 0.9081 - val_loss: 0.0470 - val_acc: 0.9149\n",
      "Epoch 80/200\n",
      "185/185 [==============================] - 0s 70us/sample - loss: 0.0592 - acc: 0.9081 - val_loss: 0.0471 - val_acc: 0.9149\n",
      "Epoch 81/200\n",
      "185/185 [==============================] - 0s 70us/sample - loss: 0.0588 - acc: 0.9081 - val_loss: 0.0469 - val_acc: 0.9149\n",
      "Epoch 82/200\n",
      "185/185 [==============================] - 0s 70us/sample - loss: 0.0590 - acc: 0.9081 - val_loss: 0.0466 - val_acc: 0.9149\n",
      "Epoch 83/200\n",
      "185/185 [==============================] - 0s 81us/sample - loss: 0.0590 - acc: 0.9081 - val_loss: 0.0462 - val_acc: 0.9149\n",
      "Epoch 84/200\n",
      "185/185 [==============================] - 0s 65us/sample - loss: 0.0583 - acc: 0.9081 - val_loss: 0.0462 - val_acc: 0.9149\n",
      "Epoch 85/200\n",
      "185/185 [==============================] - 0s 75us/sample - loss: 0.0578 - acc: 0.9081 - val_loss: 0.0461 - val_acc: 0.9149\n",
      "Epoch 86/200\n",
      "185/185 [==============================] - 0s 65us/sample - loss: 0.0575 - acc: 0.9081 - val_loss: 0.0459 - val_acc: 0.9149\n",
      "Epoch 87/200\n",
      "185/185 [==============================] - 0s 65us/sample - loss: 0.0575 - acc: 0.9081 - val_loss: 0.0466 - val_acc: 0.9149\n",
      "Epoch 88/200\n",
      "185/185 [==============================] - 0s 70us/sample - loss: 0.0570 - acc: 0.9081 - val_loss: 0.0457 - val_acc: 0.9149\n",
      "Epoch 89/200\n",
      "185/185 [==============================] - 0s 70us/sample - loss: 0.0569 - acc: 0.9081 - val_loss: 0.0456 - val_acc: 0.9149\n",
      "Epoch 90/200\n",
      "185/185 [==============================] - 0s 65us/sample - loss: 0.0566 - acc: 0.9081 - val_loss: 0.0453 - val_acc: 0.9149\n",
      "Epoch 91/200\n",
      "185/185 [==============================] - 0s 54us/sample - loss: 0.0566 - acc: 0.9081 - val_loss: 0.0460 - val_acc: 0.9149\n",
      "Epoch 92/200\n",
      "185/185 [==============================] - 0s 59us/sample - loss: 0.0561 - acc: 0.9081 - val_loss: 0.0454 - val_acc: 0.9149\n",
      "Epoch 93/200\n",
      "185/185 [==============================] - 0s 65us/sample - loss: 0.0561 - acc: 0.9081 - val_loss: 0.0449 - val_acc: 0.9149\n",
      "Epoch 94/200\n",
      "185/185 [==============================] - 0s 70us/sample - loss: 0.0561 - acc: 0.9081 - val_loss: 0.0448 - val_acc: 0.9149\n",
      "Epoch 95/200\n",
      "185/185 [==============================] - 0s 65us/sample - loss: 0.0559 - acc: 0.9081 - val_loss: 0.0453 - val_acc: 0.9149\n",
      "Epoch 96/200\n",
      "185/185 [==============================] - 0s 86us/sample - loss: 0.0553 - acc: 0.9081 - val_loss: 0.0448 - val_acc: 0.9149\n",
      "Epoch 97/200\n",
      "185/185 [==============================] - 0s 70us/sample - loss: 0.0550 - acc: 0.9081 - val_loss: 0.0445 - val_acc: 0.9149\n",
      "Epoch 98/200\n",
      "185/185 [==============================] - 0s 70us/sample - loss: 0.0551 - acc: 0.9081 - val_loss: 0.0449 - val_acc: 0.9149\n",
      "Epoch 99/200\n",
      "185/185 [==============================] - 0s 59us/sample - loss: 0.0550 - acc: 0.9081 - val_loss: 0.0447 - val_acc: 0.9149\n",
      "Epoch 100/200\n",
      "185/185 [==============================] - 0s 75us/sample - loss: 0.0550 - acc: 0.9081 - val_loss: 0.0441 - val_acc: 0.9149\n",
      "Epoch 101/200\n",
      "185/185 [==============================] - 0s 92us/sample - loss: 0.0544 - acc: 0.9081 - val_loss: 0.0440 - val_acc: 0.9149\n",
      "Epoch 102/200\n",
      "185/185 [==============================] - 0s 81us/sample - loss: 0.0540 - acc: 0.9081 - val_loss: 0.0440 - val_acc: 0.9149\n",
      "Epoch 103/200\n",
      "185/185 [==============================] - 0s 70us/sample - loss: 0.0544 - acc: 0.9081 - val_loss: 0.0438 - val_acc: 0.9149\n",
      "Epoch 104/200\n",
      "185/185 [==============================] - 0s 62us/sample - loss: 0.0537 - acc: 0.9081 - val_loss: 0.0440 - val_acc: 0.9149\n",
      "Epoch 105/200\n",
      "185/185 [==============================] - 0s 70us/sample - loss: 0.0533 - acc: 0.9081 - val_loss: 0.0437 - val_acc: 0.9149\n",
      "Epoch 106/200\n",
      "185/185 [==============================] - 0s 76us/sample - loss: 0.0534 - acc: 0.9081 - val_loss: 0.0436 - val_acc: 0.9149\n",
      "Epoch 107/200\n",
      "185/185 [==============================] - 0s 65us/sample - loss: 0.0531 - acc: 0.9081 - val_loss: 0.0435 - val_acc: 0.9149\n",
      "Epoch 108/200\n",
      "185/185 [==============================] - 0s 70us/sample - loss: 0.0532 - acc: 0.9081 - val_loss: 0.0430 - val_acc: 0.9149\n",
      "Epoch 109/200\n",
      "185/185 [==============================] - 0s 54us/sample - loss: 0.0528 - acc: 0.9135 - val_loss: 0.0432 - val_acc: 0.9149\n",
      "Epoch 110/200\n",
      "185/185 [==============================] - 0s 54us/sample - loss: 0.0526 - acc: 0.9081 - val_loss: 0.0432 - val_acc: 0.9149\n",
      "Epoch 111/200\n",
      "185/185 [==============================] - 0s 70us/sample - loss: 0.0524 - acc: 0.9081 - val_loss: 0.0429 - val_acc: 0.9149\n",
      "Epoch 112/200\n",
      "185/185 [==============================] - 0s 59us/sample - loss: 0.0522 - acc: 0.9081 - val_loss: 0.0430 - val_acc: 0.9149\n",
      "Epoch 113/200\n",
      "185/185 [==============================] - 0s 65us/sample - loss: 0.0524 - acc: 0.9081 - val_loss: 0.0425 - val_acc: 0.9149\n",
      "Epoch 114/200\n",
      "185/185 [==============================] - 0s 59us/sample - loss: 0.0519 - acc: 0.9081 - val_loss: 0.0426 - val_acc: 0.9149\n",
      "Epoch 115/200\n",
      "185/185 [==============================] - 0s 70us/sample - loss: 0.0520 - acc: 0.9081 - val_loss: 0.0424 - val_acc: 0.9149\n",
      "Epoch 116/200\n",
      "185/185 [==============================] - 0s 49us/sample - loss: 0.0519 - acc: 0.9081 - val_loss: 0.0424 - val_acc: 0.9149\n",
      "Epoch 117/200\n",
      "185/185 [==============================] - 0s 59us/sample - loss: 0.0516 - acc: 0.9135 - val_loss: 0.0422 - val_acc: 0.9149\n",
      "Epoch 118/200\n",
      "185/185 [==============================] - 0s 70us/sample - loss: 0.0518 - acc: 0.9081 - val_loss: 0.0422 - val_acc: 0.9149\n",
      "Epoch 119/200\n",
      "185/185 [==============================] - 0s 59us/sample - loss: 0.0513 - acc: 0.9135 - val_loss: 0.0423 - val_acc: 0.9149\n"
     ]
    },
    {
     "name": "stdout",
     "output_type": "stream",
     "text": [
      "Epoch 120/200\n",
      "185/185 [==============================] - 0s 65us/sample - loss: 0.0510 - acc: 0.9081 - val_loss: 0.0421 - val_acc: 0.9149\n",
      "Epoch 121/200\n",
      "185/185 [==============================] - 0s 65us/sample - loss: 0.0510 - acc: 0.9135 - val_loss: 0.0421 - val_acc: 0.9149\n",
      "Epoch 122/200\n",
      "185/185 [==============================] - 0s 59us/sample - loss: 0.0513 - acc: 0.9135 - val_loss: 0.0426 - val_acc: 0.9149\n",
      "Epoch 123/200\n",
      "185/185 [==============================] - 0s 54us/sample - loss: 0.0516 - acc: 0.9081 - val_loss: 0.0424 - val_acc: 0.9149\n",
      "Epoch 124/200\n",
      "185/185 [==============================] - 0s 59us/sample - loss: 0.0507 - acc: 0.9135 - val_loss: 0.0417 - val_acc: 0.9149\n",
      "Epoch 125/200\n",
      "185/185 [==============================] - 0s 75us/sample - loss: 0.0503 - acc: 0.9081 - val_loss: 0.0416 - val_acc: 0.9149\n",
      "Epoch 126/200\n",
      "185/185 [==============================] - 0s 59us/sample - loss: 0.0503 - acc: 0.9081 - val_loss: 0.0418 - val_acc: 0.9149\n",
      "Epoch 127/200\n",
      "185/185 [==============================] - 0s 65us/sample - loss: 0.0502 - acc: 0.9081 - val_loss: 0.0412 - val_acc: 0.9149\n",
      "Epoch 128/200\n",
      "185/185 [==============================] - 0s 54us/sample - loss: 0.0502 - acc: 0.9135 - val_loss: 0.0414 - val_acc: 0.9149\n",
      "Epoch 129/200\n",
      "185/185 [==============================] - 0s 49us/sample - loss: 0.0497 - acc: 0.9135 - val_loss: 0.0412 - val_acc: 0.9149\n",
      "Epoch 130/200\n",
      "185/185 [==============================] - 0s 65us/sample - loss: 0.0498 - acc: 0.9081 - val_loss: 0.0409 - val_acc: 0.9149\n",
      "Epoch 131/200\n",
      "185/185 [==============================] - 0s 59us/sample - loss: 0.0499 - acc: 0.9135 - val_loss: 0.0408 - val_acc: 0.9149\n",
      "Epoch 132/200\n",
      "185/185 [==============================] - 0s 65us/sample - loss: 0.0494 - acc: 0.9135 - val_loss: 0.0410 - val_acc: 0.9149\n",
      "Epoch 133/200\n",
      "185/185 [==============================] - 0s 59us/sample - loss: 0.0498 - acc: 0.9081 - val_loss: 0.0416 - val_acc: 0.9149\n",
      "Epoch 134/200\n",
      "185/185 [==============================] - 0s 75us/sample - loss: 0.0495 - acc: 0.9135 - val_loss: 0.0406 - val_acc: 0.9149\n",
      "Epoch 135/200\n",
      "185/185 [==============================] - 0s 65us/sample - loss: 0.0490 - acc: 0.9135 - val_loss: 0.0405 - val_acc: 0.9149\n",
      "Epoch 136/200\n",
      "185/185 [==============================] - 0s 65us/sample - loss: 0.0492 - acc: 0.9135 - val_loss: 0.0408 - val_acc: 0.9149\n",
      "Epoch 137/200\n",
      "185/185 [==============================] - 0s 59us/sample - loss: 0.0490 - acc: 0.9081 - val_loss: 0.0406 - val_acc: 0.9149\n",
      "Epoch 138/200\n",
      "185/185 [==============================] - 0s 54us/sample - loss: 0.0488 - acc: 0.9081 - val_loss: 0.0401 - val_acc: 0.9149\n",
      "Epoch 139/200\n",
      "185/185 [==============================] - 0s 65us/sample - loss: 0.0491 - acc: 0.9135 - val_loss: 0.0401 - val_acc: 0.9149\n",
      "Epoch 140/200\n",
      "185/185 [==============================] - 0s 54us/sample - loss: 0.0489 - acc: 0.9135 - val_loss: 0.0404 - val_acc: 0.9149\n",
      "Epoch 141/200\n",
      "185/185 [==============================] - 0s 75us/sample - loss: 0.0485 - acc: 0.9135 - val_loss: 0.0399 - val_acc: 0.9149\n",
      "Epoch 142/200\n",
      "185/185 [==============================] - 0s 70us/sample - loss: 0.0483 - acc: 0.9135 - val_loss: 0.0399 - val_acc: 0.9149\n",
      "Epoch 143/200\n",
      "185/185 [==============================] - 0s 70us/sample - loss: 0.0480 - acc: 0.9135 - val_loss: 0.0399 - val_acc: 0.9149\n",
      "Epoch 144/200\n",
      "185/185 [==============================] - 0s 59us/sample - loss: 0.0481 - acc: 0.9135 - val_loss: 0.0400 - val_acc: 0.9149\n",
      "Epoch 145/200\n",
      "185/185 [==============================] - 0s 59us/sample - loss: 0.0480 - acc: 0.9081 - val_loss: 0.0403 - val_acc: 0.9149\n",
      "Epoch 146/200\n",
      "185/185 [==============================] - 0s 54us/sample - loss: 0.0477 - acc: 0.9135 - val_loss: 0.0398 - val_acc: 0.9149\n",
      "Epoch 147/200\n",
      "185/185 [==============================] - 0s 54us/sample - loss: 0.0478 - acc: 0.9135 - val_loss: 0.0399 - val_acc: 0.9149\n",
      "Epoch 148/200\n",
      "185/185 [==============================] - 0s 140us/sample - loss: 0.0479 - acc: 0.9135 - val_loss: 0.0396 - val_acc: 0.9149\n",
      "Epoch 149/200\n",
      "185/185 [==============================] - 0s 65us/sample - loss: 0.0485 - acc: 0.9135 - val_loss: 0.0396 - val_acc: 0.9149\n",
      "Epoch 150/200\n",
      "185/185 [==============================] - 0s 59us/sample - loss: 0.0477 - acc: 0.9081 - val_loss: 0.0394 - val_acc: 0.9149\n",
      "Epoch 151/200\n",
      "185/185 [==============================] - 0s 59us/sample - loss: 0.0478 - acc: 0.9135 - val_loss: 0.0395 - val_acc: 0.9149\n",
      "Epoch 152/200\n",
      "185/185 [==============================] - 0s 54us/sample - loss: 0.0471 - acc: 0.9135 - val_loss: 0.0394 - val_acc: 0.9149\n",
      "Epoch 153/200\n",
      "185/185 [==============================] - 0s 70us/sample - loss: 0.0468 - acc: 0.9081 - val_loss: 0.0392 - val_acc: 0.9149\n",
      "Epoch 154/200\n",
      "185/185 [==============================] - 0s 70us/sample - loss: 0.0468 - acc: 0.9081 - val_loss: 0.0389 - val_acc: 0.9149\n",
      "Epoch 155/200\n",
      "185/185 [==============================] - 0s 54us/sample - loss: 0.0467 - acc: 0.9135 - val_loss: 0.0390 - val_acc: 0.9149\n",
      "Epoch 156/200\n",
      "185/185 [==============================] - 0s 54us/sample - loss: 0.0469 - acc: 0.9135 - val_loss: 0.0391 - val_acc: 0.9149\n",
      "Epoch 157/200\n",
      "185/185 [==============================] - 0s 59us/sample - loss: 0.0466 - acc: 0.9135 - val_loss: 0.0388 - val_acc: 0.9149\n",
      "Epoch 158/200\n",
      "185/185 [==============================] - 0s 65us/sample - loss: 0.0467 - acc: 0.9135 - val_loss: 0.0389 - val_acc: 0.9149\n",
      "Epoch 159/200\n",
      "185/185 [==============================] - 0s 59us/sample - loss: 0.0464 - acc: 0.9135 - val_loss: 0.0389 - val_acc: 0.9149\n",
      "Epoch 160/200\n",
      "185/185 [==============================] - 0s 70us/sample - loss: 0.0465 - acc: 0.9135 - val_loss: 0.0388 - val_acc: 0.9149\n",
      "Epoch 161/200\n",
      "185/185 [==============================] - 0s 65us/sample - loss: 0.0463 - acc: 0.9135 - val_loss: 0.0387 - val_acc: 0.9149\n",
      "Epoch 162/200\n",
      "185/185 [==============================] - 0s 65us/sample - loss: 0.0459 - acc: 0.9135 - val_loss: 0.0387 - val_acc: 0.9149\n",
      "Epoch 163/200\n",
      "185/185 [==============================] - 0s 70us/sample - loss: 0.0458 - acc: 0.9135 - val_loss: 0.0386 - val_acc: 0.9149\n",
      "Epoch 164/200\n",
      "185/185 [==============================] - 0s 70us/sample - loss: 0.0460 - acc: 0.9135 - val_loss: 0.0385 - val_acc: 0.9149\n",
      "Epoch 165/200\n",
      "185/185 [==============================] - 0s 59us/sample - loss: 0.0458 - acc: 0.9135 - val_loss: 0.0383 - val_acc: 0.9149\n",
      "Epoch 166/200\n",
      "185/185 [==============================] - 0s 59us/sample - loss: 0.0455 - acc: 0.9135 - val_loss: 0.0383 - val_acc: 0.9149\n",
      "Epoch 167/200\n",
      "185/185 [==============================] - 0s 59us/sample - loss: 0.0454 - acc: 0.9135 - val_loss: 0.0384 - val_acc: 0.9149\n",
      "Epoch 168/200\n",
      "185/185 [==============================] - 0s 70us/sample - loss: 0.0454 - acc: 0.9135 - val_loss: 0.0382 - val_acc: 0.9149\n",
      "Epoch 169/200\n",
      "185/185 [==============================] - 0s 86us/sample - loss: 0.0455 - acc: 0.9135 - val_loss: 0.0384 - val_acc: 0.9149\n",
      "Epoch 170/200\n",
      "185/185 [==============================] - 0s 86us/sample - loss: 0.0452 - acc: 0.9081 - val_loss: 0.0382 - val_acc: 0.9149\n",
      "Epoch 171/200\n",
      "185/185 [==============================] - 0s 65us/sample - loss: 0.0456 - acc: 0.9135 - val_loss: 0.0382 - val_acc: 0.9149\n",
      "Epoch 172/200\n",
      "185/185 [==============================] - 0s 67us/sample - loss: 0.0450 - acc: 0.9135 - val_loss: 0.0381 - val_acc: 0.9149\n",
      "Epoch 173/200\n",
      "185/185 [==============================] - 0s 65us/sample - loss: 0.0454 - acc: 0.9135 - val_loss: 0.0381 - val_acc: 0.9149\n",
      "Epoch 174/200\n",
      "185/185 [==============================] - 0s 81us/sample - loss: 0.0449 - acc: 0.9135 - val_loss: 0.0378 - val_acc: 0.9149\n",
      "Epoch 175/200\n",
      "185/185 [==============================] - 0s 70us/sample - loss: 0.0449 - acc: 0.9135 - val_loss: 0.0378 - val_acc: 0.9149\n",
      "Epoch 176/200\n",
      "185/185 [==============================] - 0s 65us/sample - loss: 0.0450 - acc: 0.9135 - val_loss: 0.0384 - val_acc: 0.9149\n",
      "Epoch 177/200\n",
      "185/185 [==============================] - 0s 59us/sample - loss: 0.0450 - acc: 0.9135 - val_loss: 0.0384 - val_acc: 0.9149\n",
      "Epoch 178/200\n",
      "185/185 [==============================] - 0s 65us/sample - loss: 0.0446 - acc: 0.9135 - val_loss: 0.0381 - val_acc: 0.9149\n",
      "Epoch 179/200\n"
     ]
    },
    {
     "name": "stdout",
     "output_type": "stream",
     "text": [
      "185/185 [==============================] - 0s 70us/sample - loss: 0.0446 - acc: 0.9135 - val_loss: 0.0376 - val_acc: 0.9149\n",
      "Epoch 180/200\n",
      "185/185 [==============================] - 0s 70us/sample - loss: 0.0446 - acc: 0.9135 - val_loss: 0.0375 - val_acc: 0.9149\n",
      "Epoch 181/200\n",
      "185/185 [==============================] - 0s 70us/sample - loss: 0.0441 - acc: 0.9135 - val_loss: 0.0375 - val_acc: 0.9149\n",
      "Epoch 182/200\n",
      "185/185 [==============================] - 0s 59us/sample - loss: 0.0450 - acc: 0.9135 - val_loss: 0.0386 - val_acc: 0.9149\n",
      "Epoch 183/200\n",
      "185/185 [==============================] - 0s 65us/sample - loss: 0.0443 - acc: 0.9135 - val_loss: 0.0372 - val_acc: 0.9149\n",
      "Epoch 184/200\n",
      "185/185 [==============================] - 0s 59us/sample - loss: 0.0442 - acc: 0.9135 - val_loss: 0.0373 - val_acc: 0.9149\n",
      "Epoch 185/200\n",
      "185/185 [==============================] - 0s 59us/sample - loss: 0.0439 - acc: 0.9135 - val_loss: 0.0374 - val_acc: 0.9149\n",
      "Epoch 186/200\n",
      "185/185 [==============================] - 0s 65us/sample - loss: 0.0439 - acc: 0.9135 - val_loss: 0.0377 - val_acc: 0.9149\n",
      "Epoch 187/200\n",
      "185/185 [==============================] - 0s 59us/sample - loss: 0.0437 - acc: 0.9135 - val_loss: 0.0374 - val_acc: 0.9149\n",
      "Epoch 188/200\n",
      "185/185 [==============================] - 0s 59us/sample - loss: 0.0436 - acc: 0.9135 - val_loss: 0.0375 - val_acc: 0.9149\n",
      "Epoch 189/200\n",
      "185/185 [==============================] - 0s 54us/sample - loss: 0.0440 - acc: 0.9135 - val_loss: 0.0376 - val_acc: 0.9149\n",
      "Epoch 190/200\n",
      "185/185 [==============================] - 0s 59us/sample - loss: 0.0435 - acc: 0.9135 - val_loss: 0.0370 - val_acc: 0.9149\n",
      "Epoch 191/200\n",
      "185/185 [==============================] - 0s 59us/sample - loss: 0.0434 - acc: 0.9135 - val_loss: 0.0370 - val_acc: 0.9149\n",
      "Epoch 192/200\n",
      "185/185 [==============================] - 0s 59us/sample - loss: 0.0432 - acc: 0.9135 - val_loss: 0.0370 - val_acc: 0.9149\n",
      "Epoch 193/200\n",
      "185/185 [==============================] - 0s 81us/sample - loss: 0.0433 - acc: 0.9135 - val_loss: 0.0369 - val_acc: 0.9149\n",
      "Epoch 194/200\n",
      "185/185 [==============================] - 0s 70us/sample - loss: 0.0436 - acc: 0.9135 - val_loss: 0.0372 - val_acc: 0.9149\n",
      "Epoch 195/200\n",
      "185/185 [==============================] - 0s 81us/sample - loss: 0.0431 - acc: 0.9135 - val_loss: 0.0368 - val_acc: 0.9149\n",
      "Epoch 196/200\n",
      "185/185 [==============================] - 0s 59us/sample - loss: 0.0432 - acc: 0.9135 - val_loss: 0.0371 - val_acc: 0.9149\n",
      "Epoch 197/200\n",
      "185/185 [==============================] - 0s 75us/sample - loss: 0.0430 - acc: 0.9135 - val_loss: 0.0367 - val_acc: 0.9149\n",
      "Epoch 198/200\n",
      "185/185 [==============================] - 0s 70us/sample - loss: 0.0430 - acc: 0.9135 - val_loss: 0.0369 - val_acc: 0.9149\n",
      "Epoch 199/200\n",
      "185/185 [==============================] - 0s 70us/sample - loss: 0.0429 - acc: 0.9135 - val_loss: 0.0368 - val_acc: 0.9149\n",
      "Epoch 200/200\n",
      "185/185 [==============================] - 0s 70us/sample - loss: 0.0436 - acc: 0.9135 - val_loss: 0.0366 - val_acc: 0.9149\n",
      "100/100 [==============================] - 0s 80us/sample - loss: 0.0404 - acc: 0.9600\n",
      "Test loss: 0.04039272159337998\n",
      "Test accuracy: 0.96\n"
     ]
    }
   ],
   "source": [
    "callback = tf.keras.callbacks.EarlyStopping(monitor='val_loss', patience=30, restore_best_weights=True)\n",
    "history = model.fit(X_train, y_train,\n",
    "                    batch_size=64,\n",
    "                    callbacks=[callback],\n",
    "                    epochs=200,\n",
    "                    validation_data=(X_val, y_val))\n",
    "\n",
    "test_scores = model.evaluate(X_test, y_test, batch_size=32)\n",
    "print('Test loss:', test_scores[0])\n",
    "print('Test accuracy:', test_scores[1])"
   ]
  },
  {
   "cell_type": "code",
   "execution_count": 31,
   "metadata": {},
   "outputs": [
    {
     "data": {
      "image/png": "[encoded data removed]",
      "text/plain": [
       "<Figure size 432x288 with 1 Axes>"
      ]
     },
     "metadata": {
      "needs_background": "light"
     },
     "output_type": "display_data"
    },
    {
     "data": {
      "image/png": "[encoded data removed]",
      "text/plain": [
       "<Figure size 432x288 with 1 Axes>"
      ]
     },
     "metadata": {
      "needs_background": "light"
     },
     "output_type": "display_data"
    }
   ],
   "source": [
    "plot_history(history)"
   ]
  },
  {
   "cell_type": "code",
   "execution_count": 33,
   "metadata": {},
   "outputs": [],
   "source": [
    "muestra = X_test[0]\n",
    "#muestra.reshape(1,64)"
   ]
  },
  {
   "cell_type": "code",
   "execution_count": 34,
   "metadata": {},
   "outputs": [
    {
     "data": {
      "text/plain": [
       "array([[-1.14632235, -0.7368885 ],\n",
       "       [ 0.17153047,  0.26272589],\n",
       "       [-0.44948612, -0.1875909 ],\n",
       "       [ 0.75885811,  1.43639988]])"
      ]
     },
     "execution_count": 34,
     "metadata": {},
     "output_type": "execute_result"
    }
   ],
   "source": [
    "y_test[0:4]"
   ]
  },
  {
   "cell_type": "code",
   "execution_count": 35,
   "metadata": {},
   "outputs": [],
   "source": [
    "y_predic= model.predict(X_test)"
   ]
  },
  {
   "cell_type": "code",
   "execution_count": 36,
   "metadata": {},
   "outputs": [],
   "source": [
    "r = y_test - y_predic"
   ]
  },
  {
   "cell_type": "code",
   "execution_count": 37,
   "metadata": {},
   "outputs": [
    {
     "data": {
      "text/plain": [
       "0.009767784333851576"
      ]
     },
     "execution_count": 37,
     "metadata": {},
     "output_type": "execute_result"
    }
   ],
   "source": [
    "r.mean()"
   ]
  },
  {
   "cell_type": "code",
   "execution_count": 38,
   "metadata": {},
   "outputs": [
    {
     "data": {
      "image/png": "[encoded data removed]",
      "text/plain": [
       "<Figure size 432x288 with 1 Axes>"
      ]
     },
     "metadata": {
      "needs_background": "light"
     },
     "output_type": "display_data"
    }
   ],
   "source": [
    "\n",
    "plt.hist(r, bins = 25)\n",
    "plt.xlabel(\"Prediction Error [MPG]\")\n",
    "_ = plt.ylabel(\"Count\")"
   ]
  },
  {
   "cell_type": "markdown",
   "metadata": {},
   "source": [
    "<h3>Guardar el modelo entrenado </h3>"
   ]
  },
  {
   "cell_type": "markdown",
   "metadata": {},
   "source": [
    "El modelo que fue generado atravez del entrenamiento es guardado con la finalidad de utilizarlo sin la necesidad de volver a entrenar"
   ]
  },
  {
   "cell_type": "code",
   "execution_count": 40,
   "metadata": {},
   "outputs": [],
   "source": [
    "model.save('modelo_serie_electrica.h5')"
   ]
  },
  {
   "cell_type": "code",
   "execution_count": null,
   "metadata": {},
   "outputs": [],
   "source": []
  }
 ],
 "metadata": {
  "kernelspec": {
   "display_name": "Python 3",
   "language": "python",
   "name": "python3"
  },
  "language_info": {
   "codemirror_mode": {
    "name": "ipython",
    "version": 3
   },
   "file_extension": ".py",
   "mimetype": "text/x-python",
   "name": "python",
   "nbconvert_exporter": "python",
   "pygments_lexer": "ipython3",
   "version": "3.7.4"
  }
 },
 "nbformat": 4,
 "nbformat_minor": 2
}
