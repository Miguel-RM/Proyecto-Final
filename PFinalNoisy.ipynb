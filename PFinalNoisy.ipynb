{
 "cells": [
  {
   "cell_type": "markdown",
   "metadata": {},
   "source": [
    "<h2> Proyecto final</h2>"
   ]
  },
  {
   "cell_type": "code",
   "execution_count": 1,
   "metadata": {},
   "outputs": [],
   "source": [
    "from jupyterthemes import jtplot\n",
    "jtplot.style()\n",
    "\n",
    "# Constantes\n",
    "SEED = 42\n",
    "PNLN = 0.0001\n",
    "\n",
    "m = 64\n",
    "tau = 1\n",
    "delta = 2"
   ]
  },
  {
   "cell_type": "code",
   "execution_count": 2,
   "metadata": {},
   "outputs": [
    {
     "name": "stderr",
     "output_type": "stream",
     "text": [
      "Using TensorFlow backend.\n"
     ]
    }
   ],
   "source": [
    "from sklearn.preprocessing import StandardScaler\n",
    "from sklearn.model_selection import train_test_split\n",
    "import numpy as np\n",
    "import pandas as pd\n",
    "#%tensorflow_version 2.x\n",
    "import tensorflow as tf\n",
    "from tensorflow import keras\n",
    "from tensorflow.keras import layers\n",
    "from tensorflow.keras.callbacks import EarlyStopping\n",
    "from keras import regularizers\n",
    "from matplotlib import pyplot as plt"
   ]
  },
  {
   "cell_type": "code",
   "execution_count": 3,
   "metadata": {},
   "outputs": [],
   "source": [
    "def TS2DBS(TS, m, tau, delta):\n",
    "    N = TS.size\n",
    "    DBSize = N-delta-(m-1)*tau\n",
    "    DB = np.array([TS[slice(i,i+m*tau,tau)] for i in range(DBSize)])\n",
    "    Y = np.array([TS[slice(i+m*tau,i+m*tau+delta,tau)] for i in range(DBSize)])\n",
    "    return DB,Y\n"
   ]
  },
  {
   "cell_type": "code",
   "execution_count": 4,
   "metadata": {},
   "outputs": [],
   "source": [
    "def GenersConjuntos(serie, test_siz, val_size):\n",
    "    # Estazndarizacion de los Datos\n",
    "    serie_std = (serie - serie.mean()) / serie.std()\n",
    "    # Creacion de la base de datos\n",
    "    X,y = TS2DBS(serie_std,m,tau,delta)\n",
    "    # Cracion del Train_set\n",
    "    X_train, X_test, y_train, y_test = train_test_split(\n",
    "    X, y, test_size=test_siz, random_state=SEED)\n",
    "                    \n",
    "    # Cracion del validation set\n",
    "    X_train, X_val, y_train, y_val = train_test_split(\n",
    "    X_train, y_train, test_size=val_size, random_state=SEED)\n",
    "    \n",
    "    return X_train, X_val, y_train, y_val "
   ]
  },
  {
   "cell_type": "code",
   "execution_count": 5,
   "metadata": {},
   "outputs": [],
   "source": [
    "def ModMLP(show=True):\n",
    "    inputs = keras.Input(shape=(m))\n",
    "    x = layers.Dense(64, activation='sigmoid')(inputs)\n",
    "    x = layers.Dense(128, activation='relu')(x)\n",
    "    x = layers.Dense(256, activation='relu')(x)\n",
    "    outputs = layers.Dense(delta, activation='linear')(x)\n",
    "\n",
    "    model = keras.Model(inputs=inputs, outputs=outputs, name='forecasting')\n",
    "    \n",
    "    if(show):\n",
    "        model.summary()\n",
    "    \n",
    "    return model"
   ]
  },
  {
   "cell_type": "code",
   "execution_count": 6,
   "metadata": {},
   "outputs": [],
   "source": [
    "def ModMLPReg(show=True):\n",
    "    inputs = keras.Input(shape=(m))\n",
    "    x = layers.Dense(64, activation='sigmoid',activity_regularizer=regularizers.l1(PNLN))(inputs)\n",
    "    x = layers.Dense(128, activation='relu',activity_regularizer=regularizers.l1(PNLN))(x)\n",
    "    x = layers.Dense(256, activation='relu',activity_regularizer=regularizers.l1(PNLN))(x)\n",
    "    outputs = layers.Dense(delta, activation='linear')(x)\n",
    "\n",
    "    model = keras.Model(inputs=inputs, outputs=outputs, name='forecasting')\n",
    "    \n",
    "    if(show):\n",
    "        model.summary()\n",
    "    \n",
    "    return model"
   ]
  },
  {
   "cell_type": "code",
   "execution_count": 7,
   "metadata": {},
   "outputs": [],
   "source": [
    "def plot_history(history):\n",
    "  hist = pd.DataFrame(history.history)\n",
    "  hist['epoch'] = history.epoch\n",
    "  \n",
    "  plt.figure(figsize=(16, 12))\n",
    "  plt.subplot(221)\n",
    "  #plt.figure()\n",
    "  plt.xlabel('Epoch')\n",
    "  plt.ylabel('Mean Square Error [$MPG^2$]')\n",
    "  plt.plot(hist['epoch'], hist['loss'],\n",
    "           label='Train Error')\n",
    "  plt.plot(hist['epoch'], hist['val_loss'],\n",
    "           label = 'Val Error')\n",
    "\n",
    "  #plt.ylim([0,20])\n",
    "  plt.legend(loc=\"upper right\")\n",
    "\n",
    "  plt.subplot(224)\n",
    "  #plt.figure()\n",
    "  plt.xlabel('Epoch')\n",
    "  plt.ylabel('Precisión')\n",
    "  plt.plot(hist['epoch'], hist['acc'],\n",
    "           label='Train ACC')\n",
    "  plt.plot(hist['epoch'], hist['val_acc'],\n",
    "           label = 'Val ACC')\n",
    "  #plt.ylim([0,20])\n",
    "  plt.legend(loc=\"lower right\")\n",
    "\n",
    "  plt.subplot(222)\n",
    "  plt.xlabel('Epoch')\n",
    "  plt.ylabel('mean_absolute_error')\n",
    "  plt.plot(hist['epoch'], hist['mean_absolute_error'],\n",
    "           label='Train MAE')\n",
    "  plt.plot(hist['epoch'], hist['val_mean_absolute_error'],\n",
    "           label = 'Val MAE')\n",
    "  #plt.ylim([0,20])\n",
    "  plt.legend(loc=\"upper right\")\n",
    "    \n",
    "  plt.subplot(223)\n",
    "  plt.xlabel('Epoch')\n",
    "  plt.ylabel('mean_squared_error')\n",
    "  plt.plot(hist['epoch'], hist['mean_squared_error'],\n",
    "           label='Train MSE')\n",
    "  plt.plot(hist['epoch'], hist['val_mean_squared_error'],\n",
    "           label = 'Val MSE')\n",
    "  #plt.ylim([0,20])\n",
    "  plt.legend(loc=\"upper right\")\n",
    "  \n",
    "  plt.show()"
   ]
  },
  {
   "cell_type": "code",
   "execution_count": 8,
   "metadata": {},
   "outputs": [],
   "source": [
    "def Noise(muestras, sigma, mean):\n",
    "    N = np.random.normal(mean, sigma, size=muestras)\n",
    "    return N"
   ]
  },
  {
   "cell_type": "code",
   "execution_count": null,
   "metadata": {},
   "outputs": [],
   "source": []
  },
  {
   "cell_type": "markdown",
   "metadata": {},
   "source": [
    "<h3>1) Series de tiempo y MLP </h3>"
   ]
  },
  {
   "cell_type": "markdown",
   "metadata": {},
   "source": [
    "Los datos de la serie de tiempo se encuentran en un archivo csv, por lo cual se utiliza pandas para leer los datos. Posteriormente se realiza una revición a los datos por medio del metodo info() con la finalidad de encontrar valores nulos"
   ]
  },
  {
   "cell_type": "code",
   "execution_count": 9,
   "metadata": {},
   "outputs": [],
   "source": [
    "TS = pd.read_csv('TimesSeries\\Electric_Production.csv')"
   ]
  },
  {
   "cell_type": "code",
   "execution_count": 10,
   "metadata": {},
   "outputs": [
    {
     "name": "stdout",
     "output_type": "stream",
     "text": [
      "<class 'pandas.core.frame.DataFrame'>\n",
      "RangeIndex: 397 entries, 0 to 396\n",
      "Data columns (total 2 columns):\n",
      "DATE     397 non-null object\n",
      "Value    397 non-null float64\n",
      "dtypes: float64(1), object(1)\n",
      "memory usage: 6.3+ KB\n"
     ]
    }
   ],
   "source": [
    "TS.info() # Se reviza que la serie de tiempo no tenga nulos"
   ]
  },
  {
   "cell_type": "code",
   "execution_count": 11,
   "metadata": {},
   "outputs": [],
   "source": [
    "serie = TS.Value"
   ]
  },
  {
   "cell_type": "code",
   "execution_count": 12,
   "metadata": {},
   "outputs": [
    {
     "data": {
      "text/plain": [
       "88.84721763224182"
      ]
     },
     "execution_count": 12,
     "metadata": {},
     "output_type": "execute_result"
    }
   ],
   "source": [
    "serie.mean()"
   ]
  },
  {
   "cell_type": "code",
   "execution_count": 13,
   "metadata": {
    "scrolled": true
   },
   "outputs": [
    {
     "data": {
      "text/plain": [
       "129.4048"
      ]
     },
     "execution_count": 13,
     "metadata": {},
     "output_type": "execute_result"
    }
   ],
   "source": [
    "serie.max()"
   ]
  },
  {
   "cell_type": "code",
   "execution_count": 14,
   "metadata": {},
   "outputs": [
    {
     "data": {
      "text/plain": [
       "55.3151"
      ]
     },
     "execution_count": 14,
     "metadata": {},
     "output_type": "execute_result"
    }
   ],
   "source": [
    "serie.min()"
   ]
  },
  {
   "cell_type": "code",
   "execution_count": 15,
   "metadata": {},
   "outputs": [
    {
     "data": {
      "text/plain": [
       "15.387833664730902"
      ]
     },
     "execution_count": 15,
     "metadata": {},
     "output_type": "execute_result"
    }
   ],
   "source": [
    "serie.std()"
   ]
  },
  {
   "cell_type": "code",
   "execution_count": 16,
   "metadata": {},
   "outputs": [
    {
     "data": {
      "image/png": "[encoded data removed]",
      "text/plain": [
       "<Figure size 432x288 with 1 Axes>"
      ]
     },
     "metadata": {
      "needs_background": "dark"
     },
     "output_type": "display_data"
    }
   ],
   "source": [
    "serie = np.array(serie)\n",
    "plt.plot(serie)\n",
    "plt.show()"
   ]
  },
  {
   "cell_type": "markdown",
   "metadata": {},
   "source": [
    "Una vez que se ha revizado que la serie de tiempo no tiene valores nulos se aplica una estandarizacion a los datos, con la finalidad de mejorar el entrenamiento de la red neuronal MLP. Para realizar esta estandarizacion se utiliza la clase StandardScaler de Sklearn."
   ]
  },
  {
   "cell_type": "code",
   "execution_count": 17,
   "metadata": {},
   "outputs": [],
   "source": [
    "serie = serie / serie.max()"
   ]
  },
  {
   "cell_type": "code",
   "execution_count": 18,
   "metadata": {},
   "outputs": [],
   "source": [
    "serie_std = (serie - serie.mean()) / serie.std()"
   ]
  },
  {
   "cell_type": "code",
   "execution_count": 19,
   "metadata": {},
   "outputs": [
    {
     "data": {
      "image/png": "[encoded data removed]",
      "text/plain": [
       "<Figure size 432x288 with 1 Axes>"
      ]
     },
     "metadata": {
      "needs_background": "dark"
     },
     "output_type": "display_data"
    }
   ],
   "source": [
    "plt.plot(serie_std)\n",
    "plt.grid(True)\n",
    "plt.show()"
   ]
  },
  {
   "cell_type": "markdown",
   "metadata": {},
   "source": [
    "Después de que se estandarizo para mantenerlo alrededor del cero, se aplica la función TS2DBS para obtener una base de datos a partir de la serie de tiempo."
   ]
  },
  {
   "cell_type": "code",
   "execution_count": 20,
   "metadata": {},
   "outputs": [],
   "source": [
    "\n",
    "X,y = TS2DBS(serie_std,m,tau,delta)"
   ]
  },
  {
   "cell_type": "markdown",
   "metadata": {},
   "source": [
    "Para terminar con el tratamiento de los datos se divide en train y test. Posteriormente del train se obtiene el validation"
   ]
  },
  {
   "cell_type": "code",
   "execution_count": 21,
   "metadata": {},
   "outputs": [],
   "source": [
    "X_train, X_test, y_train, y_test = train_test_split(\n",
    "    X, y, test_size=0.3, random_state=42)"
   ]
  },
  {
   "cell_type": "code",
   "execution_count": 22,
   "metadata": {},
   "outputs": [
    {
     "data": {
      "text/plain": [
       "(232, 64)"
      ]
     },
     "execution_count": 22,
     "metadata": {},
     "output_type": "execute_result"
    }
   ],
   "source": [
    "X_train.shape"
   ]
  },
  {
   "cell_type": "code",
   "execution_count": 23,
   "metadata": {},
   "outputs": [
    {
     "data": {
      "text/plain": [
       "(100, 64)"
      ]
     },
     "execution_count": 23,
     "metadata": {},
     "output_type": "execute_result"
    }
   ],
   "source": [
    "X_test.shape"
   ]
  },
  {
   "cell_type": "code",
   "execution_count": 24,
   "metadata": {},
   "outputs": [],
   "source": [
    "X_train, X_val, y_train, y_val = train_test_split(\n",
    "    X_train, y_train, test_size=0.2, random_state=42)"
   ]
  },
  {
   "cell_type": "code",
   "execution_count": 25,
   "metadata": {},
   "outputs": [
    {
     "data": {
      "text/plain": [
       "(185, 64)"
      ]
     },
     "execution_count": 25,
     "metadata": {},
     "output_type": "execute_result"
    }
   ],
   "source": [
    "X_train.shape"
   ]
  },
  {
   "cell_type": "code",
   "execution_count": 26,
   "metadata": {},
   "outputs": [
    {
     "data": {
      "text/plain": [
       "(47, 64)"
      ]
     },
     "execution_count": 26,
     "metadata": {},
     "output_type": "execute_result"
    }
   ],
   "source": [
    "X_val.shape"
   ]
  },
  {
   "cell_type": "code",
   "execution_count": 27,
   "metadata": {},
   "outputs": [
    {
     "data": {
      "text/plain": [
       "array([[-1.22232419, -1.51200874, -1.86672266, ..., -0.93176122,\n",
       "        -1.24951628, -1.40995545],\n",
       "       [ 0.90921272,  1.68264184,  1.61035084, ...,  1.67176891,\n",
       "         1.73528869,  0.90552334],\n",
       "       [-0.73461696, -1.00740324, -1.4118034 , ..., -0.12438591,\n",
       "        -0.75647344, -0.7915323 ],\n",
       "       ...,\n",
       "       [ 0.12821615,  0.20896604,  0.78865398, ...,  0.25461804,\n",
       "         0.79987177,  1.57390603],\n",
       "       [-1.28956589, -0.99867106, -0.28183194, ..., -0.44262248,\n",
       "         0.21171844,  0.38681752],\n",
       "       [-1.29992478, -1.22200536, -1.60927951, ..., -0.80098023,\n",
       "        -1.0731809 , -1.28956589]])"
      ]
     },
     "execution_count": 27,
     "metadata": {},
     "output_type": "execute_result"
    }
   ],
   "source": [
    "X_test"
   ]
  },
  {
   "cell_type": "markdown",
   "metadata": {},
   "source": [
    "<h3>Red Neuronal MLP</h3>"
   ]
  },
  {
   "cell_type": "markdown",
   "metadata": {},
   "source": [
    "Primeramente se crea la arquitectura de la red neuronal, para  esto se utiliza tensorflow en combinacion con keras"
   ]
  },
  {
   "cell_type": "code",
   "execution_count": 41,
   "metadata": {},
   "outputs": [
    {
     "name": "stdout",
     "output_type": "stream",
     "text": [
      "Model: \"forecasting\"\n",
      "_________________________________________________________________\n",
      "Layer (type)                 Output Shape              Param #   \n",
      "=================================================================\n",
      "input_2 (InputLayer)         [(None, 64)]              0         \n",
      "_________________________________________________________________\n",
      "dense_4 (Dense)              (None, 64)                4160      \n",
      "_________________________________________________________________\n",
      "dense_5 (Dense)              (None, 128)               8320      \n",
      "_________________________________________________________________\n",
      "dense_6 (Dense)              (None, 256)               33024     \n",
      "_________________________________________________________________\n",
      "dense_7 (Dense)              (None, 2)                 514       \n",
      "=================================================================\n",
      "Total params: 46,018\n",
      "Trainable params: 46,018\n",
      "Non-trainable params: 0\n",
      "_________________________________________________________________\n"
     ]
    }
   ],
   "source": [
    "model = ModMLP()"
   ]
  },
  {
   "cell_type": "markdown",
   "metadata": {},
   "source": [
    "Una vez que el modelo esta creado se compila y se entrena.\n",
    "\n",
    "En la compilación se utiliza como funcion de perdida el Error cuadratico medio en convinacion con el gradiente estocastico, el tercer parametro son las metricas en este caso se utilizan el error absoluto medio, el error cuadratico medio y accuracy, aunque la ultima no es una buena referencia cuando se realiza prediccion de series de tiempo (forcasting) es más comun su utilización en clasificación."
   ]
  },
  {
   "cell_type": "code",
   "execution_count": 42,
   "metadata": {},
   "outputs": [
    {
     "data": {
      "text/plain": [
       "(185, 64)"
      ]
     },
     "execution_count": 42,
     "metadata": {},
     "output_type": "execute_result"
    }
   ],
   "source": [
    "X_train.shape"
   ]
  },
  {
   "cell_type": "code",
   "execution_count": 43,
   "metadata": {},
   "outputs": [],
   "source": [
    "model.compile(loss=\"mean_squared_error\", optimizer=\"sgd\", metrics=['mae', 'mse','accuracy'])"
   ]
  },
  {
   "cell_type": "code",
   "execution_count": 52,
   "metadata": {},
   "outputs": [
    {
     "name": "stdout",
     "output_type": "stream",
     "text": [
      "Train on 185 samples, validate on 47 samples\n",
      "Epoch 1/1000\n",
      "185/185 [==============================] - 0s 1ms/sample - loss: 0.0434 - mean_absolute_error: 0.1601 - mean_squared_error: 0.0434 - acc: 0.8973 - val_loss: 0.0381 - val_mean_absolute_error: 0.1463 - val_mean_squared_error: 0.0381 - val_acc: 0.8936\n",
      "Epoch 2/1000\n",
      "185/185 [==============================] - 0s 146us/sample - loss: 0.0435 - mean_absolute_error: 0.1598 - mean_squared_error: 0.0435 - acc: 0.9027 - val_loss: 0.0383 - val_mean_absolute_error: 0.1468 - val_mean_squared_error: 0.0383 - val_acc: 0.8936\n",
      "Epoch 3/1000\n",
      "185/185 [==============================] - 0s 172us/sample - loss: 0.0434 - mean_absolute_error: 0.1609 - mean_squared_error: 0.0434 - acc: 0.8973 - val_loss: 0.0381 - val_mean_absolute_error: 0.1462 - val_mean_squared_error: 0.0381 - val_acc: 0.8936\n",
      "Epoch 4/1000\n",
      "185/185 [==============================] - 0s 161us/sample - loss: 0.0432 - mean_absolute_error: 0.1592 - mean_squared_error: 0.0432 - acc: 0.8973 - val_loss: 0.0380 - val_mean_absolute_error: 0.1464 - val_mean_squared_error: 0.0380 - val_acc: 0.8936\n",
      "Epoch 5/1000\n",
      "185/185 [==============================] - 0s 144us/sample - loss: 0.0437 - mean_absolute_error: 0.1612 - mean_squared_error: 0.0437 - acc: 0.8973 - val_loss: 0.0382 - val_mean_absolute_error: 0.1465 - val_mean_squared_error: 0.0382 - val_acc: 0.8936\n",
      "Epoch 6/1000\n",
      "185/185 [==============================] - 0s 137us/sample - loss: 0.0434 - mean_absolute_error: 0.1599 - mean_squared_error: 0.0434 - acc: 0.8973 - val_loss: 0.0382 - val_mean_absolute_error: 0.1466 - val_mean_squared_error: 0.0382 - val_acc: 0.8936\n",
      "Epoch 7/1000\n",
      "185/185 [==============================] - 0s 152us/sample - loss: 0.0432 - mean_absolute_error: 0.1604 - mean_squared_error: 0.0432 - acc: 0.8973 - val_loss: 0.0379 - val_mean_absolute_error: 0.1461 - val_mean_squared_error: 0.0379 - val_acc: 0.8936\n",
      "Epoch 8/1000\n",
      "185/185 [==============================] - 0s 145us/sample - loss: 0.0435 - mean_absolute_error: 0.1605 - mean_squared_error: 0.0435 - acc: 0.8973 - val_loss: 0.0379 - val_mean_absolute_error: 0.1461 - val_mean_squared_error: 0.0379 - val_acc: 0.8936\n",
      "Epoch 9/1000\n",
      "185/185 [==============================] - 0s 152us/sample - loss: 0.0432 - mean_absolute_error: 0.1586 - mean_squared_error: 0.0432 - acc: 0.9027 - val_loss: 0.0378 - val_mean_absolute_error: 0.1463 - val_mean_squared_error: 0.0378 - val_acc: 0.8936\n",
      "Epoch 10/1000\n",
      "185/185 [==============================] - 0s 149us/sample - loss: 0.0432 - mean_absolute_error: 0.1603 - mean_squared_error: 0.0432 - acc: 0.8973 - val_loss: 0.0377 - val_mean_absolute_error: 0.1461 - val_mean_squared_error: 0.0377 - val_acc: 0.8936\n",
      "Epoch 11/1000\n",
      "185/185 [==============================] - 0s 117us/sample - loss: 0.0430 - mean_absolute_error: 0.1589 - mean_squared_error: 0.0430 - acc: 0.8973 - val_loss: 0.0379 - val_mean_absolute_error: 0.1461 - val_mean_squared_error: 0.0379 - val_acc: 0.8936\n",
      "Epoch 12/1000\n",
      "185/185 [==============================] - 0s 132us/sample - loss: 0.0429 - mean_absolute_error: 0.1591 - mean_squared_error: 0.0429 - acc: 0.8973 - val_loss: 0.0381 - val_mean_absolute_error: 0.1461 - val_mean_squared_error: 0.0381 - val_acc: 0.8936\n",
      "Epoch 13/1000\n",
      "185/185 [==============================] - 0s 148us/sample - loss: 0.0428 - mean_absolute_error: 0.1587 - mean_squared_error: 0.0428 - acc: 0.8973 - val_loss: 0.0380 - val_mean_absolute_error: 0.1463 - val_mean_squared_error: 0.0380 - val_acc: 0.8936\n",
      "Epoch 14/1000\n",
      "185/185 [==============================] - 0s 144us/sample - loss: 0.0428 - mean_absolute_error: 0.1587 - mean_squared_error: 0.0428 - acc: 0.8973 - val_loss: 0.0377 - val_mean_absolute_error: 0.1462 - val_mean_squared_error: 0.0377 - val_acc: 0.8936\n",
      "Epoch 15/1000\n",
      "185/185 [==============================] - 0s 140us/sample - loss: 0.0433 - mean_absolute_error: 0.1602 - mean_squared_error: 0.0433 - acc: 0.8973 - val_loss: 0.0377 - val_mean_absolute_error: 0.1460 - val_mean_squared_error: 0.0377 - val_acc: 0.8936\n",
      "Epoch 16/1000\n",
      "185/185 [==============================] - 0s 124us/sample - loss: 0.0432 - mean_absolute_error: 0.1591 - mean_squared_error: 0.0432 - acc: 0.8973 - val_loss: 0.0380 - val_mean_absolute_error: 0.1460 - val_mean_squared_error: 0.0380 - val_acc: 0.8936\n",
      "Epoch 17/1000\n",
      "185/185 [==============================] - 0s 140us/sample - loss: 0.0427 - mean_absolute_error: 0.1580 - mean_squared_error: 0.0427 - acc: 0.8973 - val_loss: 0.0380 - val_mean_absolute_error: 0.1463 - val_mean_squared_error: 0.0380 - val_acc: 0.8936\n",
      "Epoch 18/1000\n",
      "185/185 [==============================] - 0s 157us/sample - loss: 0.0427 - mean_absolute_error: 0.1589 - mean_squared_error: 0.0427 - acc: 0.8973 - val_loss: 0.0377 - val_mean_absolute_error: 0.1459 - val_mean_squared_error: 0.0377 - val_acc: 0.8936\n",
      "Epoch 19/1000\n",
      "185/185 [==============================] - 0s 128us/sample - loss: 0.0427 - mean_absolute_error: 0.1580 - mean_squared_error: 0.0427 - acc: 0.8973 - val_loss: 0.0379 - val_mean_absolute_error: 0.1462 - val_mean_squared_error: 0.0379 - val_acc: 0.8936\n",
      "Epoch 20/1000\n",
      "185/185 [==============================] - 0s 143us/sample - loss: 0.0430 - mean_absolute_error: 0.1591 - mean_squared_error: 0.0430 - acc: 0.8973 - val_loss: 0.0380 - val_mean_absolute_error: 0.1462 - val_mean_squared_error: 0.0380 - val_acc: 0.8936\n",
      "Epoch 21/1000\n",
      "185/185 [==============================] - 0s 144us/sample - loss: 0.0424 - mean_absolute_error: 0.1579 - mean_squared_error: 0.0424 - acc: 0.8973 - val_loss: 0.0380 - val_mean_absolute_error: 0.1463 - val_mean_squared_error: 0.0380 - val_acc: 0.8936\n",
      "Epoch 22/1000\n",
      "185/185 [==============================] - 0s 166us/sample - loss: 0.0425 - mean_absolute_error: 0.1580 - mean_squared_error: 0.0425 - acc: 0.8973 - val_loss: 0.0379 - val_mean_absolute_error: 0.1462 - val_mean_squared_error: 0.0379 - val_acc: 0.8936\n",
      "Epoch 23/1000\n",
      "185/185 [==============================] - 0s 147us/sample - loss: 0.0428 - mean_absolute_error: 0.1580 - mean_squared_error: 0.0428 - acc: 0.8973 - val_loss: 0.0383 - val_mean_absolute_error: 0.1466 - val_mean_squared_error: 0.0383 - val_acc: 0.8936\n",
      "Epoch 24/1000\n",
      "185/185 [==============================] - 0s 143us/sample - loss: 0.0426 - mean_absolute_error: 0.1591 - mean_squared_error: 0.0426 - acc: 0.8973 - val_loss: 0.0377 - val_mean_absolute_error: 0.1457 - val_mean_squared_error: 0.0377 - val_acc: 0.8936\n",
      "Epoch 25/1000\n",
      "185/185 [==============================] - 0s 175us/sample - loss: 0.0425 - mean_absolute_error: 0.1577 - mean_squared_error: 0.0425 - acc: 0.8973 - val_loss: 0.0376 - val_mean_absolute_error: 0.1457 - val_mean_squared_error: 0.0376 - val_acc: 0.8936\n",
      "Epoch 26/1000\n",
      "185/185 [==============================] - 0s 177us/sample - loss: 0.0424 - mean_absolute_error: 0.1578 - mean_squared_error: 0.0424 - acc: 0.8973 - val_loss: 0.0378 - val_mean_absolute_error: 0.1458 - val_mean_squared_error: 0.0378 - val_acc: 0.8936\n",
      "Epoch 27/1000\n",
      "185/185 [==============================] - 0s 185us/sample - loss: 0.0424 - mean_absolute_error: 0.1579 - mean_squared_error: 0.0424 - acc: 0.8973 - val_loss: 0.0377 - val_mean_absolute_error: 0.1457 - val_mean_squared_error: 0.0377 - val_acc: 0.8936\n",
      "Epoch 28/1000\n",
      "185/185 [==============================] - 0s 172us/sample - loss: 0.0426 - mean_absolute_error: 0.1574 - mean_squared_error: 0.0426 - acc: 0.9027 - val_loss: 0.0375 - val_mean_absolute_error: 0.1457 - val_mean_squared_error: 0.0375 - val_acc: 0.8936\n",
      "Epoch 29/1000\n",
      "185/185 [==============================] - 0s 157us/sample - loss: 0.0424 - mean_absolute_error: 0.1564 - mean_squared_error: 0.0424 - acc: 0.8973 - val_loss: 0.0382 - val_mean_absolute_error: 0.1464 - val_mean_squared_error: 0.0382 - val_acc: 0.8936\n",
      "Epoch 30/1000\n",
      "185/185 [==============================] - 0s 157us/sample - loss: 0.0425 - mean_absolute_error: 0.1580 - mean_squared_error: 0.0425 - acc: 0.8973 - val_loss: 0.0379 - val_mean_absolute_error: 0.1461 - val_mean_squared_error: 0.0379 - val_acc: 0.8936\n",
      "Epoch 31/1000\n",
      "185/185 [==============================] - 0s 143us/sample - loss: 0.0422 - mean_absolute_error: 0.1576 - mean_squared_error: 0.0422 - acc: 0.8973 - val_loss: 0.0376 - val_mean_absolute_error: 0.1456 - val_mean_squared_error: 0.0376 - val_acc: 0.8936\n"
     ]
    },
    {
     "name": "stdout",
     "output_type": "stream",
     "text": [
      "Epoch 32/1000\n",
      "185/185 [==============================] - 0s 156us/sample - loss: 0.0422 - mean_absolute_error: 0.1572 - mean_squared_error: 0.0422 - acc: 0.9027 - val_loss: 0.0374 - val_mean_absolute_error: 0.1456 - val_mean_squared_error: 0.0374 - val_acc: 0.8936\n",
      "Epoch 33/1000\n",
      "185/185 [==============================] - 0s 130us/sample - loss: 0.0422 - mean_absolute_error: 0.1575 - mean_squared_error: 0.0422 - acc: 0.8973 - val_loss: 0.0376 - val_mean_absolute_error: 0.1456 - val_mean_squared_error: 0.0376 - val_acc: 0.8936\n",
      "Epoch 34/1000\n",
      "185/185 [==============================] - 0s 135us/sample - loss: 0.0420 - mean_absolute_error: 0.1563 - mean_squared_error: 0.0420 - acc: 0.8973 - val_loss: 0.0377 - val_mean_absolute_error: 0.1458 - val_mean_squared_error: 0.0377 - val_acc: 0.8936\n",
      "Epoch 35/1000\n",
      "185/185 [==============================] - 0s 134us/sample - loss: 0.0420 - mean_absolute_error: 0.1573 - mean_squared_error: 0.0420 - acc: 0.8973 - val_loss: 0.0375 - val_mean_absolute_error: 0.1455 - val_mean_squared_error: 0.0375 - val_acc: 0.8936\n",
      "Epoch 36/1000\n",
      "185/185 [==============================] - 0s 155us/sample - loss: 0.0420 - mean_absolute_error: 0.1563 - mean_squared_error: 0.0420 - acc: 0.8973 - val_loss: 0.0378 - val_mean_absolute_error: 0.1460 - val_mean_squared_error: 0.0378 - val_acc: 0.8936\n",
      "Epoch 37/1000\n",
      "185/185 [==============================] - 0s 147us/sample - loss: 0.0422 - mean_absolute_error: 0.1567 - mean_squared_error: 0.0422 - acc: 0.8973 - val_loss: 0.0379 - val_mean_absolute_error: 0.1461 - val_mean_squared_error: 0.0379 - val_acc: 0.8936\n",
      "Epoch 38/1000\n",
      "185/185 [==============================] - 0s 140us/sample - loss: 0.0423 - mean_absolute_error: 0.1577 - mean_squared_error: 0.0423 - acc: 0.8973 - val_loss: 0.0378 - val_mean_absolute_error: 0.1459 - val_mean_squared_error: 0.0378 - val_acc: 0.8936\n",
      "Epoch 39/1000\n",
      "185/185 [==============================] - 0s 120us/sample - loss: 0.0419 - mean_absolute_error: 0.1568 - mean_squared_error: 0.0419 - acc: 0.8973 - val_loss: 0.0374 - val_mean_absolute_error: 0.1455 - val_mean_squared_error: 0.0374 - val_acc: 0.8936\n",
      "Epoch 40/1000\n",
      "185/185 [==============================] - 0s 146us/sample - loss: 0.0418 - mean_absolute_error: 0.1558 - mean_squared_error: 0.0418 - acc: 0.8973 - val_loss: 0.0376 - val_mean_absolute_error: 0.1459 - val_mean_squared_error: 0.0376 - val_acc: 0.8936\n",
      "Epoch 41/1000\n",
      "185/185 [==============================] - 0s 142us/sample - loss: 0.0418 - mean_absolute_error: 0.1563 - mean_squared_error: 0.0418 - acc: 0.8973 - val_loss: 0.0376 - val_mean_absolute_error: 0.1458 - val_mean_squared_error: 0.0376 - val_acc: 0.8936\n",
      "Epoch 42/1000\n",
      "185/185 [==============================] - 0s 200us/sample - loss: 0.0417 - mean_absolute_error: 0.1561 - mean_squared_error: 0.0417 - acc: 0.8973 - val_loss: 0.0377 - val_mean_absolute_error: 0.1459 - val_mean_squared_error: 0.0377 - val_acc: 0.8936\n",
      "100/100 [==============================] - 0s 160us/sample - loss: 0.0402 - mean_absolute_error: 0.1505 - mean_squared_error: 0.0402 - acc: 0.9600\n",
      "Test loss: 0.04021132826805115\n",
      "Test mae: 0.15051919\n",
      "Test mse: 0.04021133\n",
      "Test acc: 0.96\n"
     ]
    }
   ],
   "source": [
    "callback = tf.keras.callbacks.EarlyStopping(monitor='val_loss', patience=10, restore_best_weights=True)\n",
    "history = model.fit(X_train, y_train,\n",
    "                    batch_size=64,\n",
    "                    callbacks=[callback],\n",
    "                    epochs=1000,\n",
    "                    validation_data=(X_val, y_val))\n",
    "\n",
    "test_scores = model.evaluate(X_test, y_test, batch_size=32)\n",
    "print('Test loss:', test_scores[0])\n",
    "print('Test mae:', test_scores[1])\n",
    "print('Test mse:', test_scores[2])\n",
    "print('Test acc:', test_scores[3])"
   ]
  },
  {
   "cell_type": "code",
   "execution_count": 1,
   "metadata": {},
   "outputs": [
    {
     "ename": "NameError",
     "evalue": "name 'plot_history' is not defined",
     "output_type": "error",
     "traceback": [
      "\u001b[1;31m---------------------------------------------------------------------------\u001b[0m",
      "\u001b[1;31mNameError\u001b[0m                                 Traceback (most recent call last)",
      "\u001b[1;32m<ipython-input-1-a8489d1127d4>\u001b[0m in \u001b[0;36m<module>\u001b[1;34m\u001b[0m\n\u001b[1;32m----> 1\u001b[1;33m \u001b[0mplot_history\u001b[0m\u001b[1;33m(\u001b[0m\u001b[0mhistory\u001b[0m\u001b[1;33m)\u001b[0m\u001b[1;33m\u001b[0m\u001b[1;33m\u001b[0m\u001b[0m\n\u001b[0m",
      "\u001b[1;31mNameError\u001b[0m: name 'plot_history' is not defined"
     ]
    }
   ],
   "source": [
    "plot_history(history)"
   ]
  },
  {
   "cell_type": "code",
   "execution_count": 46,
   "metadata": {},
   "outputs": [],
   "source": [
    "muestra = X_test[0]\n",
    "#muestra.reshape(1,64)"
   ]
  },
  {
   "cell_type": "code",
   "execution_count": 47,
   "metadata": {},
   "outputs": [
    {
     "data": {
      "text/plain": [
       "array([[-1.14776881, -0.73781833],\n",
       "       [ 0.17174691,  0.26305741],\n",
       "       [-0.45005329, -0.18782761],\n",
       "       [ 0.75981566,  1.43821237]])"
      ]
     },
     "execution_count": 47,
     "metadata": {},
     "output_type": "execute_result"
    }
   ],
   "source": [
    "y_test[0:4]"
   ]
  },
  {
   "cell_type": "code",
   "execution_count": 48,
   "metadata": {},
   "outputs": [],
   "source": [
    "y_predic= model.predict(X_test)"
   ]
  },
  {
   "cell_type": "code",
   "execution_count": 49,
   "metadata": {},
   "outputs": [],
   "source": [
    "r = y_test - y_predic"
   ]
  },
  {
   "cell_type": "code",
   "execution_count": 50,
   "metadata": {},
   "outputs": [
    {
     "data": {
      "text/plain": [
       "0.002051248316462735"
      ]
     },
     "execution_count": 50,
     "metadata": {},
     "output_type": "execute_result"
    }
   ],
   "source": [
    "r.mean()"
   ]
  },
  {
   "cell_type": "code",
   "execution_count": 51,
   "metadata": {},
   "outputs": [
    {
     "data": {
      "image/png": "[encoded data removed]",
      "text/plain": [
       "<Figure size 432x288 with 1 Axes>"
      ]
     },
     "metadata": {
      "needs_background": "dark"
     },
     "output_type": "display_data"
    }
   ],
   "source": [
    "\n",
    "plt.hist(r, bins = 25)\n",
    "plt.xlabel(\"Prediction Error [MPG]\")\n",
    "_ = plt.ylabel(\"Count\")"
   ]
  },
  {
   "cell_type": "markdown",
   "metadata": {},
   "source": [
    "<h3>Guardar el modelo entrenado </h3>"
   ]
  },
  {
   "cell_type": "markdown",
   "metadata": {},
   "source": [
    "El modelo que fue generado atravez del entrenamiento es guardado con la finalidad de utilizarlo sin la necesidad de volver a entrenar"
   ]
  },
  {
   "cell_type": "code",
   "execution_count": 39,
   "metadata": {},
   "outputs": [],
   "source": [
    "#model.save('modelo_serie_electrica3.h5')"
   ]
  },
  {
   "cell_type": "markdown",
   "metadata": {},
   "source": [
    "<h2>Adicion de ruido blanco a la serie de Tiempo</h2>"
   ]
  },
  {
   "cell_type": "markdown",
   "metadata": {},
   "source": [
    "En esta sección se añade el ruido blanco en la señal, para lo cual primero se dividira la señal en conjunto de entrenamiento y conjunto de prueba"
   ]
  },
  {
   "cell_type": "code",
   "execution_count": 40,
   "metadata": {},
   "outputs": [
    {
     "ename": "NameError",
     "evalue": "name 'serie_e' is not defined",
     "output_type": "error",
     "traceback": [
      "\u001b[1;31m---------------------------------------------------------------------------\u001b[0m",
      "\u001b[1;31mNameError\u001b[0m                                 Traceback (most recent call last)",
      "\u001b[1;32m<ipython-input-40-75fc9ce95f18>\u001b[0m in \u001b[0;36m<module>\u001b[1;34m\u001b[0m\n\u001b[1;32m----> 1\u001b[1;33m \u001b[0mX_train_e\u001b[0m\u001b[1;33m,\u001b[0m \u001b[0mX_val_e\u001b[0m\u001b[1;33m,\u001b[0m \u001b[0my_train_e\u001b[0m\u001b[1;33m,\u001b[0m \u001b[0my_val_e\u001b[0m \u001b[1;33m=\u001b[0m  \u001b[0mGenersConjuntos\u001b[0m\u001b[1;33m(\u001b[0m\u001b[0mserie_e\u001b[0m\u001b[1;33m,\u001b[0m \u001b[1;36m0.3\u001b[0m\u001b[1;33m,\u001b[0m \u001b[1;36m0.2\u001b[0m\u001b[1;33m)\u001b[0m\u001b[1;33m\u001b[0m\u001b[1;33m\u001b[0m\u001b[0m\n\u001b[0m",
      "\u001b[1;31mNameError\u001b[0m: name 'serie_e' is not defined"
     ]
    }
   ],
   "source": [
    "X_train_e, X_val_e, y_train_e, y_val_e =  GenersConjuntos(serie_e, 0.3, 0.2)"
   ]
  },
  {
   "cell_type": "code",
   "execution_count": null,
   "metadata": {},
   "outputs": [],
   "source": [
    "len = serie.size\n",
    "e = Noise(len, 1, 0)"
   ]
  },
  {
   "cell_type": "code",
   "execution_count": null,
   "metadata": {},
   "outputs": [],
   "source": [
    "X_train_e = X_train_e + e "
   ]
  },
  {
   "cell_type": "code",
   "execution_count": null,
   "metadata": {
    "scrolled": true
   },
   "outputs": [],
   "source": [
    "plt.plot(serie_e)\n",
    "plt.show()"
   ]
  },
  {
   "cell_type": "code",
   "execution_count": null,
   "metadata": {},
   "outputs": [],
   "source": [
    "modelE = ModMLPR()"
   ]
  },
  {
   "cell_type": "code",
   "execution_count": null,
   "metadata": {},
   "outputs": [],
   "source": [
    "modelE.compile(loss=\"mean_squared_error\", optimizer=\"sgd\", metrics=['mae', 'mse','accuracy'])"
   ]
  },
  {
   "cell_type": "code",
   "execution_count": null,
   "metadata": {},
   "outputs": [],
   "source": [
    "callback = tf.keras.callbacks.EarlyStopping(monitor='val_loss', patience=30, restore_best_weights=True)\n",
    "history = modelE.fit(X_train, y_train,\n",
    "                    batch_size=64,\n",
    "                    callbacks=[callback],\n",
    "                    epochs=200,\n",
    "                    validation_data=(X_val, y_val))\n",
    "\n",
    "test_scores = modelE.evaluate(X_test, y_test, batch_size=32)\n",
    "print('Test loss:', test_scores[0])\n",
    "print('Test accuracy:', test_scores[1])"
   ]
  },
  {
   "cell_type": "code",
   "execution_count": null,
   "metadata": {},
   "outputs": [],
   "source": [
    "plot_history(history)"
   ]
  },
  {
   "cell_type": "code",
   "execution_count": null,
   "metadata": {},
   "outputs": [],
   "source": []
  },
  {
   "cell_type": "code",
   "execution_count": null,
   "metadata": {},
   "outputs": [],
   "source": []
  }
 ],
 "metadata": {
  "kernelspec": {
   "display_name": "Python 3",
   "language": "python",
   "name": "python3"
  },
  "language_info": {
   "codemirror_mode": {
    "name": "ipython",
    "version": 3
   },
   "file_extension": ".py",
   "mimetype": "text/x-python",
   "name": "python",
   "nbconvert_exporter": "python",
   "pygments_lexer": "ipython3",
   "version": "3.7.4"
  }
 },
 "nbformat": 4,
 "nbformat_minor": 2
}
