{
 "cells": [
  {
   "cell_type": "markdown",
   "metadata": {},
   "source": [
    "<h2> Proyecto final</h2>"
   ]
  },
  {
   "cell_type": "code",
   "execution_count": 1,
   "metadata": {},
   "outputs": [],
   "source": [
    "from jupyterthemes import jtplot\n",
    "jtplot.style()\n",
    "\n",
    "# Constantes\n",
    "SEED = 42\n",
    "PNLN = 0.0001\n",
    "\n",
    "m = 64\n",
    "tau = 1\n",
    "delta = 2"
   ]
  },
  {
   "cell_type": "code",
   "execution_count": 2,
   "metadata": {},
   "outputs": [
    {
     "name": "stderr",
     "output_type": "stream",
     "text": [
      "Using TensorFlow backend.\n"
     ]
    }
   ],
   "source": [
    "from sklearn.preprocessing import StandardScaler\n",
    "from sklearn.model_selection import train_test_split\n",
    "import numpy as np\n",
    "import pandas as pd\n",
    "#%tensorflow_version 2.x\n",
    "import tensorflow as tf\n",
    "from tensorflow import keras\n",
    "from tensorflow.keras import layers\n",
    "from tensorflow.keras.callbacks import EarlyStopping\n",
    "from keras import regularizers\n",
    "from matplotlib import pyplot as plt"
   ]
  },
  {
   "cell_type": "code",
   "execution_count": 3,
   "metadata": {},
   "outputs": [],
   "source": [
    "def TS2DBS(TS, m, tau, delta):\n",
    "    N = TS.size\n",
    "    DBSize = N-delta-(m-1)*tau\n",
    "    DB = np.array([TS[slice(i,i+m*tau,tau)] for i in range(DBSize)])\n",
    "    Y = np.array([TS[slice(i+m*tau,i+m*tau+delta,tau)] for i in range(DBSize)])\n",
    "    return DB,Y\n"
   ]
  },
  {
   "cell_type": "code",
   "execution_count": 4,
   "metadata": {},
   "outputs": [],
   "source": [
    "def GenersConjuntos(serie, test_siz, val_size):\n",
    "    # Estazndarizacion de los Datos\n",
    "    serie_std = (serie - serie.mean()) / serie.std()\n",
    "    # Creacion de la base de datos\n",
    "    X,y = TS2DBS(serie_std,m,tau,delta)\n",
    "    # Cracion del Train_set\n",
    "    X_train, X_test, y_train, y_test = train_test_split(\n",
    "    X, y, test_size=test_siz, random_state=SEED)\n",
    "                    \n",
    "    # Cracion del validation set\n",
    "    X_train, X_val, y_train, y_val = train_test_split(\n",
    "    X_train, y_train, test_size=val_size, random_state=SEED)\n",
    "    \n",
    "    return X_train, X_val, y_train, y_val "
   ]
  },
  {
   "cell_type": "code",
   "execution_count": 5,
   "metadata": {},
   "outputs": [],
   "source": [
    "def ModMLP(show=True):\n",
    "    inputs = keras.Input(shape=(m))\n",
    "    x = layers.Dense(64, activation='sigmoid')(inputs)\n",
    "    x = layers.Dense(128, activation='relu')(x)\n",
    "    x = layers.Dense(256, activation='relu')(x)\n",
    "    outputs = layers.Dense(delta, activation='linear')(x)\n",
    "\n",
    "    model = keras.Model(inputs=inputs, outputs=outputs, name='forecasting')\n",
    "    \n",
    "    if(show):\n",
    "        model.summary()\n",
    "    \n",
    "    return model"
   ]
  },
  {
   "cell_type": "code",
   "execution_count": 6,
   "metadata": {},
   "outputs": [],
   "source": [
    "def ModMLPReg(show=True):\n",
    "    inputs = keras.Input(shape=(m))\n",
    "    x = layers.Dense(64, activation='sigmoid',activity_regularizer=regularizers.l1(PNLN))(inputs)\n",
    "    x = layers.Dense(128, activation='relu',activity_regularizer=regularizers.l1(PNLN))(x)\n",
    "    x = layers.Dense(256, activation='relu',activity_regularizer=regularizers.l1(PNLN))(x)\n",
    "    outputs = layers.Dense(delta, activation='linear')(x)\n",
    "\n",
    "    model = keras.Model(inputs=inputs, outputs=outputs, name='forecasting')\n",
    "    \n",
    "    if(show):\n",
    "        model.summary()\n",
    "    \n",
    "    return model"
   ]
  },
  {
   "cell_type": "code",
   "execution_count": 7,
   "metadata": {},
   "outputs": [],
   "source": [
    "def plot_history(history):\n",
    "  hist = pd.DataFrame(history.history)\n",
    "  hist['epoch'] = history.epoch\n",
    "  \n",
    "  plt.figure(figsize=(16, 12))\n",
    "  plt.subplot(221)\n",
    "  #plt.figure()\n",
    "  plt.xlabel('Epoch')\n",
    "  plt.ylabel('Mean Square Error [$MPG^2$]')\n",
    "  plt.plot(hist['epoch'], hist['loss'],\n",
    "           label='Train Error')\n",
    "  plt.plot(hist['epoch'], hist['val_loss'],\n",
    "           label = 'Val Error')\n",
    "\n",
    "  #plt.ylim([0,20])\n",
    "  plt.legend(loc=\"upper right\")\n",
    "\n",
    "  plt.subplot(224)\n",
    "  #plt.figure()\n",
    "  plt.xlabel('Epoch')\n",
    "  plt.ylabel('Precisión')\n",
    "  plt.plot(hist['epoch'], hist['acc'],\n",
    "           label='Train ACC')\n",
    "  plt.plot(hist['epoch'], hist['val_acc'],\n",
    "           label = 'Val ACC')\n",
    "  #plt.ylim([0,20])\n",
    "  plt.legend(loc=\"lower right\")\n",
    "\n",
    "  plt.subplot(222)\n",
    "  plt.xlabel('Epoch')\n",
    "  plt.ylabel('mean_absolute_error')\n",
    "  plt.plot(hist['epoch'], hist['mean_absolute_error'],\n",
    "           label='Train MAE')\n",
    "  plt.plot(hist['epoch'], hist['val_mean_absolute_error'],\n",
    "           label = 'Val MAE')\n",
    "  #plt.ylim([0,20])\n",
    "  plt.legend(loc=\"upper right\")\n",
    "    \n",
    "  plt.subplot(223)\n",
    "  plt.xlabel('Epoch')\n",
    "  plt.ylabel('mean_squared_error')\n",
    "  plt.plot(hist['epoch'], hist['mean_squared_error'],\n",
    "           label='Train MSE')\n",
    "  plt.plot(hist['epoch'], hist['val_mean_squared_error'],\n",
    "           label = 'Val MSE')\n",
    "  #plt.ylim([0,20])\n",
    "  plt.legend(loc=\"upper right\")\n",
    "  \n",
    "  plt.show()"
   ]
  },
  {
   "cell_type": "code",
   "execution_count": 8,
   "metadata": {},
   "outputs": [],
   "source": [
    "def Noise(muestras, sigma, mean):\n",
    "    N = np.random.normal(mean, sigma, size=muestras)\n",
    "    return N"
   ]
  },
  {
   "cell_type": "code",
   "execution_count": null,
   "metadata": {},
   "outputs": [],
   "source": []
  },
  {
   "cell_type": "markdown",
   "metadata": {},
   "source": [
    "<h3>1) Series de tiempo y MLP </h3>"
   ]
  },
  {
   "cell_type": "markdown",
   "metadata": {},
   "source": [
    "Los datos de la serie de tiempo se encuentran en un archivo csv, por lo cual se utiliza pandas para leer los datos. Posteriormente se realiza una revición a los datos por medio del metodo info() con la finalidad de encontrar valores nulos"
   ]
  },
  {
   "cell_type": "code",
   "execution_count": 9,
   "metadata": {},
   "outputs": [],
   "source": [
    "TS = pd.read_csv('TimesSeries\\Electric_Production.csv')"
   ]
  },
  {
   "cell_type": "code",
   "execution_count": 10,
   "metadata": {},
   "outputs": [
    {
     "name": "stdout",
     "output_type": "stream",
     "text": [
      "<class 'pandas.core.frame.DataFrame'>\n",
      "RangeIndex: 397 entries, 0 to 396\n",
      "Data columns (total 2 columns):\n",
      "DATE     397 non-null object\n",
      "Value    397 non-null float64\n",
      "dtypes: float64(1), object(1)\n",
      "memory usage: 6.3+ KB\n"
     ]
    }
   ],
   "source": [
    "TS.info() # Se reviza que la serie de tiempo no tenga nulos"
   ]
  },
  {
   "cell_type": "code",
   "execution_count": 11,
   "metadata": {},
   "outputs": [],
   "source": [
    "serie = TS.Value"
   ]
  },
  {
   "cell_type": "code",
   "execution_count": 12,
   "metadata": {},
   "outputs": [
    {
     "data": {
      "text/plain": [
       "88.84721763224182"
      ]
     },
     "execution_count": 12,
     "metadata": {},
     "output_type": "execute_result"
    }
   ],
   "source": [
    "serie.mean()"
   ]
  },
  {
   "cell_type": "code",
   "execution_count": 13,
   "metadata": {
    "scrolled": true
   },
   "outputs": [
    {
     "data": {
      "text/plain": [
       "129.4048"
      ]
     },
     "execution_count": 13,
     "metadata": {},
     "output_type": "execute_result"
    }
   ],
   "source": [
    "serie.max()"
   ]
  },
  {
   "cell_type": "code",
   "execution_count": 14,
   "metadata": {},
   "outputs": [
    {
     "data": {
      "text/plain": [
       "55.3151"
      ]
     },
     "execution_count": 14,
     "metadata": {},
     "output_type": "execute_result"
    }
   ],
   "source": [
    "serie.min()"
   ]
  },
  {
   "cell_type": "code",
   "execution_count": 15,
   "metadata": {},
   "outputs": [
    {
     "data": {
      "text/plain": [
       "15.387833664730902"
      ]
     },
     "execution_count": 15,
     "metadata": {},
     "output_type": "execute_result"
    }
   ],
   "source": [
    "serie.std()"
   ]
  },
  {
   "cell_type": "code",
   "execution_count": 16,
   "metadata": {},
   "outputs": [
    {
     "data": {
      "image/png": "[encoded data removed]",
      "text/plain": [
       "<Figure size 432x288 with 1 Axes>"
      ]
     },
     "metadata": {
      "needs_background": "dark"
     },
     "output_type": "display_data"
    }
   ],
   "source": [
    "serie = np.array(serie)\n",
    "plt.plot(serie)\n",
    "plt.show()"
   ]
  },
  {
   "cell_type": "markdown",
   "metadata": {},
   "source": [
    "Una vez que se ha revizado que la serie de tiempo no tiene valores nulos se aplica una estandarizacion a los datos, con la finalidad de mejorar el entrenamiento de la red neuronal MLP. Para realizar esta estandarizacion se utiliza la clase StandardScaler de Sklearn."
   ]
  },
  {
   "cell_type": "code",
   "execution_count": 17,
   "metadata": {},
   "outputs": [],
   "source": [
    "serie = serie / serie.max()"
   ]
  },
  {
   "cell_type": "code",
   "execution_count": 18,
   "metadata": {},
   "outputs": [],
   "source": [
    "serie_std = (serie - serie.mean()) / serie.std()"
   ]
  },
  {
   "cell_type": "code",
   "execution_count": 19,
   "metadata": {},
   "outputs": [
    {
     "data": {
      "image/png": "[encoded data removed]",
      "text/plain": [
       "<Figure size 432x288 with 1 Axes>"
      ]
     },
     "metadata": {
      "needs_background": "dark"
     },
     "output_type": "display_data"
    }
   ],
   "source": [
    "plt.plot(serie_std)\n",
    "plt.grid(True)\n",
    "plt.show()"
   ]
  },
  {
   "cell_type": "markdown",
   "metadata": {},
   "source": [
    "Después de que se estandarizo para mantenerlo alrededor del cero, se aplica la función TS2DBS para obtener una base de datos a partir de la serie de tiempo."
   ]
  },
  {
   "cell_type": "code",
   "execution_count": 20,
   "metadata": {},
   "outputs": [],
   "source": [
    "\n",
    "X,y = TS2DBS(serie_std,m,tau,delta)"
   ]
  },
  {
   "cell_type": "markdown",
   "metadata": {},
   "source": [
    "Para terminar con el tratamiento de los datos se divide en train y test. Posteriormente del train se obtiene el validation"
   ]
  },
  {
   "cell_type": "code",
   "execution_count": 21,
   "metadata": {},
   "outputs": [],
   "source": [
    "X_train, X_test, y_train, y_test = train_test_split(\n",
    "    X, y, test_size=0.3, random_state=42)"
   ]
  },
  {
   "cell_type": "code",
   "execution_count": 22,
   "metadata": {},
   "outputs": [
    {
     "data": {
      "text/plain": [
       "(232, 64)"
      ]
     },
     "execution_count": 22,
     "metadata": {},
     "output_type": "execute_result"
    }
   ],
   "source": [
    "X_train.shape"
   ]
  },
  {
   "cell_type": "code",
   "execution_count": 23,
   "metadata": {},
   "outputs": [
    {
     "data": {
      "text/plain": [
       "(100, 64)"
      ]
     },
     "execution_count": 23,
     "metadata": {},
     "output_type": "execute_result"
    }
   ],
   "source": [
    "X_test.shape"
   ]
  },
  {
   "cell_type": "code",
   "execution_count": 24,
   "metadata": {},
   "outputs": [],
   "source": [
    "X_train, X_val, y_train, y_val = train_test_split(\n",
    "    X_train, y_train, test_size=0.2, random_state=42)"
   ]
  },
  {
   "cell_type": "code",
   "execution_count": 25,
   "metadata": {},
   "outputs": [
    {
     "data": {
      "text/plain": [
       "(185, 64)"
      ]
     },
     "execution_count": 25,
     "metadata": {},
     "output_type": "execute_result"
    }
   ],
   "source": [
    "X_train.shape"
   ]
  },
  {
   "cell_type": "code",
   "execution_count": 26,
   "metadata": {},
   "outputs": [
    {
     "data": {
      "text/plain": [
       "(47, 64)"
      ]
     },
     "execution_count": 26,
     "metadata": {},
     "output_type": "execute_result"
    }
   ],
   "source": [
    "X_val.shape"
   ]
  },
  {
   "cell_type": "code",
   "execution_count": 27,
   "metadata": {},
   "outputs": [
    {
     "data": {
      "text/plain": [
       "array([[-1.22232419, -1.51200874, -1.86672266, ..., -0.93176122,\n",
       "        -1.24951628, -1.40995545],\n",
       "       [ 0.90921272,  1.68264184,  1.61035084, ...,  1.67176891,\n",
       "         1.73528869,  0.90552334],\n",
       "       [-0.73461696, -1.00740324, -1.4118034 , ..., -0.12438591,\n",
       "        -0.75647344, -0.7915323 ],\n",
       "       ...,\n",
       "       [ 0.12821615,  0.20896604,  0.78865398, ...,  0.25461804,\n",
       "         0.79987177,  1.57390603],\n",
       "       [-1.28956589, -0.99867106, -0.28183194, ..., -0.44262248,\n",
       "         0.21171844,  0.38681752],\n",
       "       [-1.29992478, -1.22200536, -1.60927951, ..., -0.80098023,\n",
       "        -1.0731809 , -1.28956589]])"
      ]
     },
     "execution_count": 27,
     "metadata": {},
     "output_type": "execute_result"
    }
   ],
   "source": [
    "X_test"
   ]
  },
  {
   "cell_type": "markdown",
   "metadata": {},
   "source": [
    "<h3>Red Neuronal MLP</h3>"
   ]
  },
  {
   "cell_type": "markdown",
   "metadata": {},
   "source": [
    "Primeramente se crea la arquitectura de la red neuronal, para  esto se utiliza tensorflow en combinacion con keras"
   ]
  },
  {
   "cell_type": "code",
   "execution_count": 41,
   "metadata": {},
   "outputs": [
    {
     "name": "stdout",
     "output_type": "stream",
     "text": [
      "Model: \"forecasting\"\n",
      "_________________________________________________________________\n",
      "Layer (type)                 Output Shape              Param #   \n",
      "=================================================================\n",
      "input_2 (InputLayer)         [(None, 64)]              0         \n",
      "_________________________________________________________________\n",
      "dense_4 (Dense)              (None, 64)                4160      \n",
      "_________________________________________________________________\n",
      "dense_5 (Dense)              (None, 128)               8320      \n",
      "_________________________________________________________________\n",
      "dense_6 (Dense)              (None, 256)               33024     \n",
      "_________________________________________________________________\n",
      "dense_7 (Dense)              (None, 2)                 514       \n",
      "=================================================================\n",
      "Total params: 46,018\n",
      "Trainable params: 46,018\n",
      "Non-trainable params: 0\n",
      "_________________________________________________________________\n"
     ]
    }
   ],
   "source": [
    "model = ModMLP()"
   ]
  },
  {
   "cell_type": "markdown",
   "metadata": {},
   "source": [
    "Una vez que el modelo esta creado se compila y se entrena.\n",
    "\n",
    "En la compilación se utiliza como funcion de perdida el Error cuadratico medio en convinacion con el gradiente estocastico, el tercer parametro son las metricas en este caso se utilizan el error absoluto medio, el error cuadratico medio y accuracy, aunque la ultima no es una buena referencia cuando se realiza prediccion de series de tiempo (forcasting) es más comun su utilización en clasificación."
   ]
  },
  {
   "cell_type": "code",
   "execution_count": 42,
   "metadata": {},
   "outputs": [
    {
     "data": {
      "text/plain": [
       "(185, 64)"
      ]
     },
     "execution_count": 42,
     "metadata": {},
     "output_type": "execute_result"
    }
   ],
   "source": [
    "X_train.shape"
   ]
  },
  {
   "cell_type": "code",
   "execution_count": 43,
   "metadata": {},
   "outputs": [],
   "source": [
    "model.compile(loss=\"mean_squared_error\", optimizer=\"sgd\", metrics=['mae', 'mse','accuracy'])"
   ]
  },
  {
   "cell_type": "code",
   "execution_count": 44,
   "metadata": {},
   "outputs": [
    {
     "name": "stdout",
     "output_type": "stream",
     "text": [
      "Train on 185 samples, validate on 47 samples\n",
      "Epoch 1/1000\n",
      "185/185 [==============================] - 0s 569us/sample - loss: 0.7645 - mean_absolute_error: 0.6990 - mean_squared_error: 0.7645 - acc: 0.4811 - val_loss: 0.5646 - val_mean_absolute_error: 0.6166 - val_mean_squared_error: 0.5646 - val_acc: 0.4468\n",
      "Epoch 2/1000\n",
      "185/185 [==============================] - 0s 75us/sample - loss: 0.6540 - mean_absolute_error: 0.6521 - mean_squared_error: 0.6540 - acc: 0.4811 - val_loss: 0.4916 - val_mean_absolute_error: 0.5778 - val_mean_squared_error: 0.4916 - val_acc: 0.4043\n",
      "Epoch 3/1000\n",
      "185/185 [==============================] - 0s 81us/sample - loss: 0.5875 - mean_absolute_error: 0.6246 - mean_squared_error: 0.5875 - acc: 0.5243 - val_loss: 0.4423 - val_mean_absolute_error: 0.5497 - val_mean_squared_error: 0.4423 - val_acc: 0.5319\n",
      "Epoch 4/1000\n",
      "185/185 [==============================] - 0s 78us/sample - loss: 0.5357 - mean_absolute_error: 0.6011 - mean_squared_error: 0.5357 - acc: 0.5514 - val_loss: 0.4035 - val_mean_absolute_error: 0.5269 - val_mean_squared_error: 0.4035 - val_acc: 0.5319\n",
      "Epoch 5/1000\n",
      "185/185 [==============================] - 0s 75us/sample - loss: 0.4925 - mean_absolute_error: 0.5784 - mean_squared_error: 0.4925 - acc: 0.5946 - val_loss: 0.3711 - val_mean_absolute_error: 0.5070 - val_mean_squared_error: 0.3711 - val_acc: 0.6383\n",
      "Epoch 6/1000\n",
      "185/185 [==============================] - 0s 75us/sample - loss: 0.4550 - mean_absolute_error: 0.5593 - mean_squared_error: 0.4550 - acc: 0.6703 - val_loss: 0.3436 - val_mean_absolute_error: 0.4899 - val_mean_squared_error: 0.3436 - val_acc: 0.6809\n",
      "Epoch 7/1000\n",
      "185/185 [==============================] - 0s 75us/sample - loss: 0.4244 - mean_absolute_error: 0.5398 - mean_squared_error: 0.4244 - acc: 0.6811 - val_loss: 0.3186 - val_mean_absolute_error: 0.4732 - val_mean_squared_error: 0.3186 - val_acc: 0.6809\n",
      "Epoch 8/1000\n",
      "185/185 [==============================] - 0s 81us/sample - loss: 0.3958 - mean_absolute_error: 0.5207 - mean_squared_error: 0.3958 - acc: 0.6919 - val_loss: 0.2959 - val_mean_absolute_error: 0.4570 - val_mean_squared_error: 0.2959 - val_acc: 0.6809\n",
      "Epoch 9/1000\n",
      "185/185 [==============================] - 0s 78us/sample - loss: 0.3676 - mean_absolute_error: 0.5038 - mean_squared_error: 0.3676 - acc: 0.6973 - val_loss: 0.2765 - val_mean_absolute_error: 0.4429 - val_mean_squared_error: 0.2765 - val_acc: 0.6809\n",
      "Epoch 10/1000\n",
      "185/185 [==============================] - 0s 81us/sample - loss: 0.3455 - mean_absolute_error: 0.4885 - mean_squared_error: 0.3455 - acc: 0.7027 - val_loss: 0.2586 - val_mean_absolute_error: 0.4288 - val_mean_squared_error: 0.2586 - val_acc: 0.6809\n",
      "Epoch 11/1000\n",
      "185/185 [==============================] - 0s 81us/sample - loss: 0.3233 - mean_absolute_error: 0.4717 - mean_squared_error: 0.3233 - acc: 0.7135 - val_loss: 0.2418 - val_mean_absolute_error: 0.4150 - val_mean_squared_error: 0.2418 - val_acc: 0.6809\n",
      "Epoch 12/1000\n",
      "185/185 [==============================] - 0s 81us/sample - loss: 0.3040 - mean_absolute_error: 0.4583 - mean_squared_error: 0.3040 - acc: 0.7243 - val_loss: 0.2267 - val_mean_absolute_error: 0.4019 - val_mean_squared_error: 0.2267 - val_acc: 0.6809\n",
      "Epoch 13/1000\n",
      "185/185 [==============================] - 0s 75us/sample - loss: 0.2887 - mean_absolute_error: 0.4477 - mean_squared_error: 0.2887 - acc: 0.7135 - val_loss: 0.2128 - val_mean_absolute_error: 0.3890 - val_mean_squared_error: 0.2128 - val_acc: 0.6809\n",
      "Epoch 14/1000\n",
      "185/185 [==============================] - 0s 81us/sample - loss: 0.2708 - mean_absolute_error: 0.4338 - mean_squared_error: 0.2708 - acc: 0.7297 - val_loss: 0.2003 - val_mean_absolute_error: 0.3768 - val_mean_squared_error: 0.2003 - val_acc: 0.7021\n",
      "Epoch 15/1000\n",
      "185/185 [==============================] - 0s 75us/sample - loss: 0.2563 - mean_absolute_error: 0.4219 - mean_squared_error: 0.2563 - acc: 0.7405 - val_loss: 0.1892 - val_mean_absolute_error: 0.3651 - val_mean_squared_error: 0.1892 - val_acc: 0.7021\n",
      "Epoch 16/1000\n",
      "185/185 [==============================] - 0s 81us/sample - loss: 0.2438 - mean_absolute_error: 0.4118 - mean_squared_error: 0.2438 - acc: 0.7297 - val_loss: 0.1792 - val_mean_absolute_error: 0.3545 - val_mean_squared_error: 0.1792 - val_acc: 0.7021\n",
      "Epoch 17/1000\n",
      "185/185 [==============================] - 0s 86us/sample - loss: 0.2325 - mean_absolute_error: 0.4009 - mean_squared_error: 0.2325 - acc: 0.7514 - val_loss: 0.1695 - val_mean_absolute_error: 0.3450 - val_mean_squared_error: 0.1695 - val_acc: 0.7234\n",
      "Epoch 18/1000\n",
      "185/185 [==============================] - 0s 86us/sample - loss: 0.2216 - mean_absolute_error: 0.3909 - mean_squared_error: 0.2216 - acc: 0.7622 - val_loss: 0.1604 - val_mean_absolute_error: 0.3345 - val_mean_squared_error: 0.1604 - val_acc: 0.7234\n",
      "Epoch 19/1000\n",
      "185/185 [==============================] - 0s 92us/sample - loss: 0.2114 - mean_absolute_error: 0.3811 - mean_squared_error: 0.2114 - acc: 0.7514 - val_loss: 0.1521 - val_mean_absolute_error: 0.3242 - val_mean_squared_error: 0.1521 - val_acc: 0.7234\n",
      "Epoch 20/1000\n",
      "185/185 [==============================] - 0s 75us/sample - loss: 0.2019 - mean_absolute_error: 0.3728 - mean_squared_error: 0.2019 - acc: 0.7622 - val_loss: 0.1447 - val_mean_absolute_error: 0.3150 - val_mean_squared_error: 0.1447 - val_acc: 0.7234\n",
      "Epoch 21/1000\n",
      "185/185 [==============================] - 0s 86us/sample - loss: 0.1940 - mean_absolute_error: 0.3645 - mean_squared_error: 0.1940 - acc: 0.7676 - val_loss: 0.1375 - val_mean_absolute_error: 0.3062 - val_mean_squared_error: 0.1375 - val_acc: 0.7021\n",
      "Epoch 22/1000\n",
      "185/185 [==============================] - 0s 97us/sample - loss: 0.1851 - mean_absolute_error: 0.3557 - mean_squared_error: 0.1851 - acc: 0.7622 - val_loss: 0.1311 - val_mean_absolute_error: 0.2983 - val_mean_squared_error: 0.1311 - val_acc: 0.7234\n",
      "Epoch 23/1000\n",
      "185/185 [==============================] - 0s 75us/sample - loss: 0.1787 - mean_absolute_error: 0.3488 - mean_squared_error: 0.1787 - acc: 0.7784 - val_loss: 0.1252 - val_mean_absolute_error: 0.2919 - val_mean_squared_error: 0.1252 - val_acc: 0.7447\n",
      "Epoch 24/1000\n",
      "185/185 [==============================] - 0s 81us/sample - loss: 0.1709 - mean_absolute_error: 0.3403 - mean_squared_error: 0.1709 - acc: 0.7676 - val_loss: 0.1194 - val_mean_absolute_error: 0.2845 - val_mean_squared_error: 0.1194 - val_acc: 0.7234\n",
      "Epoch 25/1000\n",
      "185/185 [==============================] - 0s 86us/sample - loss: 0.1648 - mean_absolute_error: 0.3336 - mean_squared_error: 0.1648 - acc: 0.7946 - val_loss: 0.1140 - val_mean_absolute_error: 0.2774 - val_mean_squared_error: 0.1140 - val_acc: 0.7234\n",
      "Epoch 26/1000\n",
      "185/185 [==============================] - ETA: 0s - loss: 0.1463 - mean_absolute_error: 0.3193 - mean_squared_error: 0.1463 - acc: 0.79 - 0s 81us/sample - loss: 0.1584 - mean_absolute_error: 0.3272 - mean_squared_error: 0.1584 - acc: 0.8162 - val_loss: 0.1090 - val_mean_absolute_error: 0.2710 - val_mean_squared_error: 0.1090 - val_acc: 0.7447\n",
      "Epoch 27/1000\n",
      "185/185 [==============================] - 0s 81us/sample - loss: 0.1533 - mean_absolute_error: 0.3212 - mean_squared_error: 0.1533 - acc: 0.8108 - val_loss: 0.1041 - val_mean_absolute_error: 0.2639 - val_mean_squared_error: 0.1041 - val_acc: 0.7447\n",
      "Epoch 28/1000\n",
      "185/185 [==============================] - 0s 81us/sample - loss: 0.1482 - mean_absolute_error: 0.3158 - mean_squared_error: 0.1482 - acc: 0.8216 - val_loss: 0.0999 - val_mean_absolute_error: 0.2586 - val_mean_squared_error: 0.0999 - val_acc: 0.7660\n",
      "Epoch 29/1000\n",
      "185/185 [==============================] - 0s 75us/sample - loss: 0.1431 - mean_absolute_error: 0.3107 - mean_squared_error: 0.1431 - acc: 0.8378 - val_loss: 0.0957 - val_mean_absolute_error: 0.2521 - val_mean_squared_error: 0.0957 - val_acc: 0.7447\n",
      "Epoch 30/1000\n",
      "185/185 [==============================] - 0s 81us/sample - loss: 0.1368 - mean_absolute_error: 0.3019 - mean_squared_error: 0.1368 - acc: 0.8324 - val_loss: 0.0918 - val_mean_absolute_error: 0.2471 - val_mean_squared_error: 0.0918 - val_acc: 0.7872\n",
      "Epoch 31/1000\n"
     ]
    },
    {
     "name": "stdout",
     "output_type": "stream",
     "text": [
      "185/185 [==============================] - 0s 81us/sample - loss: 0.1317 - mean_absolute_error: 0.2962 - mean_squared_error: 0.1317 - acc: 0.8378 - val_loss: 0.0880 - val_mean_absolute_error: 0.2424 - val_mean_squared_error: 0.0880 - val_acc: 0.7660\n",
      "Epoch 32/1000\n",
      "185/185 [==============================] - 0s 86us/sample - loss: 0.1268 - mean_absolute_error: 0.2908 - mean_squared_error: 0.1268 - acc: 0.8378 - val_loss: 0.0845 - val_mean_absolute_error: 0.2371 - val_mean_squared_error: 0.0845 - val_acc: 0.7660\n",
      "Epoch 33/1000\n",
      "185/185 [==============================] - 0s 81us/sample - loss: 0.1229 - mean_absolute_error: 0.2847 - mean_squared_error: 0.1229 - acc: 0.8703 - val_loss: 0.0813 - val_mean_absolute_error: 0.2353 - val_mean_squared_error: 0.0813 - val_acc: 0.7872\n",
      "Epoch 34/1000\n",
      "185/185 [==============================] - 0s 81us/sample - loss: 0.1185 - mean_absolute_error: 0.2812 - mean_squared_error: 0.1185 - acc: 0.8324 - val_loss: 0.0779 - val_mean_absolute_error: 0.2291 - val_mean_squared_error: 0.0779 - val_acc: 0.7872\n",
      "Epoch 35/1000\n",
      "185/185 [==============================] - 0s 75us/sample - loss: 0.1136 - mean_absolute_error: 0.2739 - mean_squared_error: 0.1136 - acc: 0.8649 - val_loss: 0.0748 - val_mean_absolute_error: 0.2250 - val_mean_squared_error: 0.0748 - val_acc: 0.8085\n",
      "Epoch 36/1000\n",
      "185/185 [==============================] - 0s 75us/sample - loss: 0.1108 - mean_absolute_error: 0.2701 - mean_squared_error: 0.1108 - acc: 0.8703 - val_loss: 0.0721 - val_mean_absolute_error: 0.2203 - val_mean_squared_error: 0.0721 - val_acc: 0.8085\n",
      "Epoch 37/1000\n",
      "185/185 [==============================] - 0s 81us/sample - loss: 0.1060 - mean_absolute_error: 0.2629 - mean_squared_error: 0.1060 - acc: 0.8865 - val_loss: 0.0694 - val_mean_absolute_error: 0.2169 - val_mean_squared_error: 0.0694 - val_acc: 0.7872\n",
      "Epoch 38/1000\n",
      "185/185 [==============================] - 0s 70us/sample - loss: 0.1025 - mean_absolute_error: 0.2589 - mean_squared_error: 0.1025 - acc: 0.8703 - val_loss: 0.0670 - val_mean_absolute_error: 0.2129 - val_mean_squared_error: 0.0670 - val_acc: 0.7872\n",
      "Epoch 39/1000\n",
      "185/185 [==============================] - 0s 86us/sample - loss: 0.0993 - mean_absolute_error: 0.2543 - mean_squared_error: 0.0993 - acc: 0.8703 - val_loss: 0.0647 - val_mean_absolute_error: 0.2096 - val_mean_squared_error: 0.0647 - val_acc: 0.7872\n",
      "Epoch 40/1000\n",
      "185/185 [==============================] - 0s 70us/sample - loss: 0.0963 - mean_absolute_error: 0.2504 - mean_squared_error: 0.0963 - acc: 0.8703 - val_loss: 0.0627 - val_mean_absolute_error: 0.2062 - val_mean_squared_error: 0.0627 - val_acc: 0.7872\n",
      "Epoch 41/1000\n",
      "185/185 [==============================] - 0s 70us/sample - loss: 0.0934 - mean_absolute_error: 0.2467 - mean_squared_error: 0.0934 - acc: 0.8703 - val_loss: 0.0608 - val_mean_absolute_error: 0.2017 - val_mean_squared_error: 0.0608 - val_acc: 0.7660\n",
      "Epoch 42/1000\n",
      "185/185 [==============================] - 0s 65us/sample - loss: 0.0910 - mean_absolute_error: 0.2426 - mean_squared_error: 0.0910 - acc: 0.8757 - val_loss: 0.0591 - val_mean_absolute_error: 0.1981 - val_mean_squared_error: 0.0591 - val_acc: 0.7872\n",
      "Epoch 43/1000\n",
      "185/185 [==============================] - 0s 86us/sample - loss: 0.0882 - mean_absolute_error: 0.2378 - mean_squared_error: 0.0882 - acc: 0.8757 - val_loss: 0.0574 - val_mean_absolute_error: 0.1958 - val_mean_squared_error: 0.0574 - val_acc: 0.7872\n",
      "Epoch 44/1000\n",
      "185/185 [==============================] - 0s 75us/sample - loss: 0.0861 - mean_absolute_error: 0.2363 - mean_squared_error: 0.0861 - acc: 0.8757 - val_loss: 0.0560 - val_mean_absolute_error: 0.1914 - val_mean_squared_error: 0.0560 - val_acc: 0.7872\n",
      "Epoch 45/1000\n",
      "185/185 [==============================] - 0s 70us/sample - loss: 0.0836 - mean_absolute_error: 0.2304 - mean_squared_error: 0.0836 - acc: 0.8865 - val_loss: 0.0546 - val_mean_absolute_error: 0.1903 - val_mean_squared_error: 0.0546 - val_acc: 0.7872\n",
      "Epoch 46/1000\n",
      "185/185 [==============================] - 0s 70us/sample - loss: 0.0820 - mean_absolute_error: 0.2280 - mean_squared_error: 0.0820 - acc: 0.8919 - val_loss: 0.0536 - val_mean_absolute_error: 0.1898 - val_mean_squared_error: 0.0536 - val_acc: 0.7660\n",
      "Epoch 47/1000\n",
      "185/185 [==============================] - 0s 70us/sample - loss: 0.0800 - mean_absolute_error: 0.2277 - mean_squared_error: 0.0800 - acc: 0.8973 - val_loss: 0.0523 - val_mean_absolute_error: 0.1858 - val_mean_squared_error: 0.0523 - val_acc: 0.7660\n",
      "Epoch 48/1000\n",
      "185/185 [==============================] - 0s 70us/sample - loss: 0.0782 - mean_absolute_error: 0.2236 - mean_squared_error: 0.0782 - acc: 0.8919 - val_loss: 0.0512 - val_mean_absolute_error: 0.1834 - val_mean_squared_error: 0.0512 - val_acc: 0.7872\n",
      "Epoch 49/1000\n",
      "185/185 [==============================] - 0s 70us/sample - loss: 0.0766 - mean_absolute_error: 0.2201 - mean_squared_error: 0.0766 - acc: 0.8919 - val_loss: 0.0505 - val_mean_absolute_error: 0.1831 - val_mean_squared_error: 0.0505 - val_acc: 0.7872\n",
      "Epoch 50/1000\n",
      "185/185 [==============================] - 0s 81us/sample - loss: 0.0750 - mean_absolute_error: 0.2186 - mean_squared_error: 0.0750 - acc: 0.8919 - val_loss: 0.0496 - val_mean_absolute_error: 0.1805 - val_mean_squared_error: 0.0496 - val_acc: 0.7872\n",
      "Epoch 51/1000\n",
      "185/185 [==============================] - 0s 70us/sample - loss: 0.0736 - mean_absolute_error: 0.2166 - mean_squared_error: 0.0736 - acc: 0.9081 - val_loss: 0.0487 - val_mean_absolute_error: 0.1770 - val_mean_squared_error: 0.0487 - val_acc: 0.7872\n",
      "Epoch 52/1000\n",
      "185/185 [==============================] - 0s 70us/sample - loss: 0.0722 - mean_absolute_error: 0.2132 - mean_squared_error: 0.0722 - acc: 0.9081 - val_loss: 0.0481 - val_mean_absolute_error: 0.1770 - val_mean_squared_error: 0.0481 - val_acc: 0.7872\n",
      "Epoch 53/1000\n",
      "185/185 [==============================] - 0s 70us/sample - loss: 0.0709 - mean_absolute_error: 0.2127 - mean_squared_error: 0.0709 - acc: 0.9027 - val_loss: 0.0472 - val_mean_absolute_error: 0.1725 - val_mean_squared_error: 0.0472 - val_acc: 0.8085\n",
      "Epoch 54/1000\n",
      "185/185 [==============================] - 0s 75us/sample - loss: 0.0702 - mean_absolute_error: 0.2106 - mean_squared_error: 0.0702 - acc: 0.8973 - val_loss: 0.0468 - val_mean_absolute_error: 0.1698 - val_mean_squared_error: 0.0468 - val_acc: 0.8298\n",
      "Epoch 55/1000\n",
      "185/185 [==============================] - 0s 75us/sample - loss: 0.0685 - mean_absolute_error: 0.2070 - mean_squared_error: 0.0685 - acc: 0.8973 - val_loss: 0.0462 - val_mean_absolute_error: 0.1698 - val_mean_squared_error: 0.0462 - val_acc: 0.8298\n",
      "Epoch 56/1000\n",
      "185/185 [==============================] - 0s 70us/sample - loss: 0.0679 - mean_absolute_error: 0.2067 - mean_squared_error: 0.0679 - acc: 0.9081 - val_loss: 0.0457 - val_mean_absolute_error: 0.1677 - val_mean_squared_error: 0.0457 - val_acc: 0.8085\n",
      "Epoch 57/1000\n",
      "185/185 [==============================] - 0s 70us/sample - loss: 0.0667 - mean_absolute_error: 0.2040 - mean_squared_error: 0.0667 - acc: 0.9027 - val_loss: 0.0452 - val_mean_absolute_error: 0.1679 - val_mean_squared_error: 0.0452 - val_acc: 0.8298\n",
      "Epoch 58/1000\n",
      "185/185 [==============================] - 0s 65us/sample - loss: 0.0659 - mean_absolute_error: 0.2010 - mean_squared_error: 0.0659 - acc: 0.9027 - val_loss: 0.0453 - val_mean_absolute_error: 0.1716 - val_mean_squared_error: 0.0453 - val_acc: 0.8298\n",
      "Epoch 59/1000\n",
      "185/185 [==============================] - 0s 70us/sample - loss: 0.0656 - mean_absolute_error: 0.2045 - mean_squared_error: 0.0656 - acc: 0.9027 - val_loss: 0.0445 - val_mean_absolute_error: 0.1656 - val_mean_squared_error: 0.0445 - val_acc: 0.8511\n",
      "Epoch 60/1000\n",
      "185/185 [==============================] - 0s 75us/sample - loss: 0.0641 - mean_absolute_error: 0.1995 - mean_squared_error: 0.0641 - acc: 0.8973 - val_loss: 0.0442 - val_mean_absolute_error: 0.1658 - val_mean_squared_error: 0.0442 - val_acc: 0.8511\n",
      "Epoch 61/1000\n",
      "185/185 [==============================] - 0s 75us/sample - loss: 0.0633 - mean_absolute_error: 0.1977 - mean_squared_error: 0.0633 - acc: 0.9027 - val_loss: 0.0439 - val_mean_absolute_error: 0.1655 - val_mean_squared_error: 0.0439 - val_acc: 0.8511\n",
      "Epoch 62/1000\n"
     ]
    },
    {
     "name": "stdout",
     "output_type": "stream",
     "text": [
      "185/185 [==============================] - 0s 75us/sample - loss: 0.0626 - mean_absolute_error: 0.1963 - mean_squared_error: 0.0626 - acc: 0.9027 - val_loss: 0.0439 - val_mean_absolute_error: 0.1666 - val_mean_squared_error: 0.0439 - val_acc: 0.8723\n",
      "Epoch 63/1000\n",
      "185/185 [==============================] - 0s 70us/sample - loss: 0.0618 - mean_absolute_error: 0.1962 - mean_squared_error: 0.0618 - acc: 0.8973 - val_loss: 0.0435 - val_mean_absolute_error: 0.1646 - val_mean_squared_error: 0.0435 - val_acc: 0.8936\n",
      "Epoch 64/1000\n",
      "185/185 [==============================] - 0s 70us/sample - loss: 0.0615 - mean_absolute_error: 0.1960 - mean_squared_error: 0.0615 - acc: 0.8973 - val_loss: 0.0431 - val_mean_absolute_error: 0.1614 - val_mean_squared_error: 0.0431 - val_acc: 0.8936\n",
      "Epoch 65/1000\n",
      "185/185 [==============================] - 0s 75us/sample - loss: 0.0606 - mean_absolute_error: 0.1932 - mean_squared_error: 0.0606 - acc: 0.8973 - val_loss: 0.0429 - val_mean_absolute_error: 0.1621 - val_mean_squared_error: 0.0429 - val_acc: 0.8936\n",
      "Epoch 66/1000\n",
      "185/185 [==============================] - 0s 70us/sample - loss: 0.0604 - mean_absolute_error: 0.1923 - mean_squared_error: 0.0604 - acc: 0.9027 - val_loss: 0.0429 - val_mean_absolute_error: 0.1631 - val_mean_squared_error: 0.0429 - val_acc: 0.8936\n",
      "Epoch 67/1000\n",
      "185/185 [==============================] - 0s 70us/sample - loss: 0.0596 - mean_absolute_error: 0.1923 - mean_squared_error: 0.0596 - acc: 0.8973 - val_loss: 0.0425 - val_mean_absolute_error: 0.1609 - val_mean_squared_error: 0.0425 - val_acc: 0.8936\n",
      "Epoch 68/1000\n",
      "185/185 [==============================] - 0s 70us/sample - loss: 0.0591 - mean_absolute_error: 0.1917 - mean_squared_error: 0.0591 - acc: 0.8973 - val_loss: 0.0423 - val_mean_absolute_error: 0.1587 - val_mean_squared_error: 0.0423 - val_acc: 0.8936\n",
      "Epoch 69/1000\n",
      "185/185 [==============================] - 0s 75us/sample - loss: 0.0587 - mean_absolute_error: 0.1894 - mean_squared_error: 0.0587 - acc: 0.9135 - val_loss: 0.0423 - val_mean_absolute_error: 0.1610 - val_mean_squared_error: 0.0423 - val_acc: 0.8511\n",
      "Epoch 70/1000\n",
      "185/185 [==============================] - 0s 75us/sample - loss: 0.0583 - mean_absolute_error: 0.1901 - mean_squared_error: 0.0583 - acc: 0.9081 - val_loss: 0.0420 - val_mean_absolute_error: 0.1586 - val_mean_squared_error: 0.0420 - val_acc: 0.8936\n",
      "Epoch 71/1000\n",
      "185/185 [==============================] - 0s 70us/sample - loss: 0.0578 - mean_absolute_error: 0.1889 - mean_squared_error: 0.0578 - acc: 0.9081 - val_loss: 0.0419 - val_mean_absolute_error: 0.1575 - val_mean_squared_error: 0.0419 - val_acc: 0.8936\n",
      "Epoch 72/1000\n",
      "185/185 [==============================] - 0s 86us/sample - loss: 0.0573 - mean_absolute_error: 0.1865 - mean_squared_error: 0.0573 - acc: 0.9027 - val_loss: 0.0419 - val_mean_absolute_error: 0.1596 - val_mean_squared_error: 0.0419 - val_acc: 0.8936\n",
      "Epoch 73/1000\n",
      "185/185 [==============================] - 0s 75us/sample - loss: 0.0577 - mean_absolute_error: 0.1890 - mean_squared_error: 0.0577 - acc: 0.9027 - val_loss: 0.0417 - val_mean_absolute_error: 0.1583 - val_mean_squared_error: 0.0417 - val_acc: 0.8936\n",
      "Epoch 74/1000\n",
      "185/185 [==============================] - 0s 65us/sample - loss: 0.0566 - mean_absolute_error: 0.1864 - mean_squared_error: 0.0566 - acc: 0.8973 - val_loss: 0.0416 - val_mean_absolute_error: 0.1579 - val_mean_squared_error: 0.0416 - val_acc: 0.8936\n",
      "Epoch 75/1000\n",
      "185/185 [==============================] - 0s 70us/sample - loss: 0.0560 - mean_absolute_error: 0.1850 - mean_squared_error: 0.0560 - acc: 0.9081 - val_loss: 0.0416 - val_mean_absolute_error: 0.1582 - val_mean_squared_error: 0.0416 - val_acc: 0.8936\n",
      "Epoch 76/1000\n",
      "185/185 [==============================] - 0s 59us/sample - loss: 0.0560 - mean_absolute_error: 0.1848 - mean_squared_error: 0.0560 - acc: 0.9027 - val_loss: 0.0416 - val_mean_absolute_error: 0.1588 - val_mean_squared_error: 0.0416 - val_acc: 0.8936\n",
      "Epoch 77/1000\n",
      "185/185 [==============================] - 0s 70us/sample - loss: 0.0556 - mean_absolute_error: 0.1854 - mean_squared_error: 0.0556 - acc: 0.9027 - val_loss: 0.0413 - val_mean_absolute_error: 0.1566 - val_mean_squared_error: 0.0413 - val_acc: 0.8936\n",
      "Epoch 78/1000\n",
      "185/185 [==============================] - 0s 70us/sample - loss: 0.0554 - mean_absolute_error: 0.1847 - mean_squared_error: 0.0554 - acc: 0.9027 - val_loss: 0.0411 - val_mean_absolute_error: 0.1552 - val_mean_squared_error: 0.0411 - val_acc: 0.8936\n",
      "Epoch 79/1000\n",
      "185/185 [==============================] - 0s 70us/sample - loss: 0.0549 - mean_absolute_error: 0.1820 - mean_squared_error: 0.0549 - acc: 0.9135 - val_loss: 0.0412 - val_mean_absolute_error: 0.1567 - val_mean_squared_error: 0.0412 - val_acc: 0.8936\n",
      "Epoch 80/1000\n",
      "185/185 [==============================] - 0s 75us/sample - loss: 0.0545 - mean_absolute_error: 0.1827 - mean_squared_error: 0.0545 - acc: 0.9027 - val_loss: 0.0410 - val_mean_absolute_error: 0.1559 - val_mean_squared_error: 0.0410 - val_acc: 0.8936\n",
      "Epoch 81/1000\n",
      "185/185 [==============================] - 0s 81us/sample - loss: 0.0543 - mean_absolute_error: 0.1819 - mean_squared_error: 0.0543 - acc: 0.9081 - val_loss: 0.0410 - val_mean_absolute_error: 0.1560 - val_mean_squared_error: 0.0410 - val_acc: 0.8936\n",
      "Epoch 82/1000\n",
      "185/185 [==============================] - 0s 86us/sample - loss: 0.0542 - mean_absolute_error: 0.1820 - mean_squared_error: 0.0542 - acc: 0.9081 - val_loss: 0.0408 - val_mean_absolute_error: 0.1554 - val_mean_squared_error: 0.0408 - val_acc: 0.8936\n",
      "Epoch 83/1000\n",
      "185/185 [==============================] - 0s 75us/sample - loss: 0.0538 - mean_absolute_error: 0.1807 - mean_squared_error: 0.0538 - acc: 0.9081 - val_loss: 0.0408 - val_mean_absolute_error: 0.1550 - val_mean_squared_error: 0.0408 - val_acc: 0.8936\n",
      "Epoch 84/1000\n",
      "185/185 [==============================] - 0s 75us/sample - loss: 0.0535 - mean_absolute_error: 0.1799 - mean_squared_error: 0.0535 - acc: 0.8973 - val_loss: 0.0410 - val_mean_absolute_error: 0.1564 - val_mean_squared_error: 0.0410 - val_acc: 0.8936\n",
      "Epoch 85/1000\n",
      "185/185 [==============================] - 0s 70us/sample - loss: 0.0532 - mean_absolute_error: 0.1802 - mean_squared_error: 0.0532 - acc: 0.9027 - val_loss: 0.0411 - val_mean_absolute_error: 0.1564 - val_mean_squared_error: 0.0411 - val_acc: 0.8936\n",
      "Epoch 86/1000\n",
      "185/185 [==============================] - 0s 78us/sample - loss: 0.0531 - mean_absolute_error: 0.1800 - mean_squared_error: 0.0531 - acc: 0.8973 - val_loss: 0.0407 - val_mean_absolute_error: 0.1552 - val_mean_squared_error: 0.0407 - val_acc: 0.8936\n",
      "Epoch 87/1000\n",
      "185/185 [==============================] - 0s 75us/sample - loss: 0.0528 - mean_absolute_error: 0.1804 - mean_squared_error: 0.0528 - acc: 0.9081 - val_loss: 0.0405 - val_mean_absolute_error: 0.1527 - val_mean_squared_error: 0.0405 - val_acc: 0.8936\n",
      "Epoch 88/1000\n",
      "185/185 [==============================] - 0s 81us/sample - loss: 0.0527 - mean_absolute_error: 0.1787 - mean_squared_error: 0.0527 - acc: 0.9027 - val_loss: 0.0404 - val_mean_absolute_error: 0.1533 - val_mean_squared_error: 0.0404 - val_acc: 0.8936\n",
      "Epoch 89/1000\n",
      "185/185 [==============================] - 0s 81us/sample - loss: 0.0524 - mean_absolute_error: 0.1786 - mean_squared_error: 0.0524 - acc: 0.9027 - val_loss: 0.0404 - val_mean_absolute_error: 0.1529 - val_mean_squared_error: 0.0404 - val_acc: 0.8936\n",
      "Epoch 90/1000\n",
      "185/185 [==============================] - 0s 81us/sample - loss: 0.0524 - mean_absolute_error: 0.1778 - mean_squared_error: 0.0524 - acc: 0.9027 - val_loss: 0.0403 - val_mean_absolute_error: 0.1531 - val_mean_squared_error: 0.0403 - val_acc: 0.8936\n",
      "Epoch 91/1000\n",
      "185/185 [==============================] - 0s 78us/sample - loss: 0.0519 - mean_absolute_error: 0.1772 - mean_squared_error: 0.0519 - acc: 0.9081 - val_loss: 0.0403 - val_mean_absolute_error: 0.1530 - val_mean_squared_error: 0.0403 - val_acc: 0.8936\n",
      "Epoch 92/1000\n",
      "185/185 [==============================] - 0s 86us/sample - loss: 0.0522 - mean_absolute_error: 0.1783 - mean_squared_error: 0.0522 - acc: 0.8973 - val_loss: 0.0402 - val_mean_absolute_error: 0.1519 - val_mean_squared_error: 0.0402 - val_acc: 0.8936\n",
      "Epoch 93/1000\n"
     ]
    },
    {
     "name": "stdout",
     "output_type": "stream",
     "text": [
      "185/185 [==============================] - 0s 70us/sample - loss: 0.0516 - mean_absolute_error: 0.1762 - mean_squared_error: 0.0516 - acc: 0.8973 - val_loss: 0.0403 - val_mean_absolute_error: 0.1533 - val_mean_squared_error: 0.0403 - val_acc: 0.8936\n",
      "Epoch 94/1000\n",
      "185/185 [==============================] - 0s 65us/sample - loss: 0.0515 - mean_absolute_error: 0.1766 - mean_squared_error: 0.0515 - acc: 0.9027 - val_loss: 0.0402 - val_mean_absolute_error: 0.1531 - val_mean_squared_error: 0.0402 - val_acc: 0.8936\n",
      "Epoch 95/1000\n",
      "185/185 [==============================] - 0s 75us/sample - loss: 0.0514 - mean_absolute_error: 0.1773 - mean_squared_error: 0.0514 - acc: 0.9081 - val_loss: 0.0400 - val_mean_absolute_error: 0.1518 - val_mean_squared_error: 0.0400 - val_acc: 0.8936\n",
      "Epoch 96/1000\n",
      "185/185 [==============================] - 0s 75us/sample - loss: 0.0514 - mean_absolute_error: 0.1770 - mean_squared_error: 0.0514 - acc: 0.8973 - val_loss: 0.0400 - val_mean_absolute_error: 0.1512 - val_mean_squared_error: 0.0400 - val_acc: 0.8936\n",
      "Epoch 97/1000\n",
      "185/185 [==============================] - 0s 70us/sample - loss: 0.0508 - mean_absolute_error: 0.1752 - mean_squared_error: 0.0508 - acc: 0.8973 - val_loss: 0.0400 - val_mean_absolute_error: 0.1516 - val_mean_squared_error: 0.0400 - val_acc: 0.8936\n",
      "Epoch 98/1000\n",
      "185/185 [==============================] - 0s 75us/sample - loss: 0.0508 - mean_absolute_error: 0.1752 - mean_squared_error: 0.0508 - acc: 0.8973 - val_loss: 0.0403 - val_mean_absolute_error: 0.1527 - val_mean_squared_error: 0.0403 - val_acc: 0.8936\n",
      "Epoch 99/1000\n",
      "185/185 [==============================] - 0s 86us/sample - loss: 0.0505 - mean_absolute_error: 0.1755 - mean_squared_error: 0.0505 - acc: 0.8973 - val_loss: 0.0400 - val_mean_absolute_error: 0.1512 - val_mean_squared_error: 0.0400 - val_acc: 0.8936\n",
      "Epoch 100/1000\n",
      "185/185 [==============================] - 0s 86us/sample - loss: 0.0503 - mean_absolute_error: 0.1744 - mean_squared_error: 0.0503 - acc: 0.8973 - val_loss: 0.0398 - val_mean_absolute_error: 0.1510 - val_mean_squared_error: 0.0398 - val_acc: 0.8936\n",
      "Epoch 101/1000\n",
      "185/185 [==============================] - 0s 75us/sample - loss: 0.0502 - mean_absolute_error: 0.1738 - mean_squared_error: 0.0502 - acc: 0.8973 - val_loss: 0.0400 - val_mean_absolute_error: 0.1521 - val_mean_squared_error: 0.0400 - val_acc: 0.8936\n",
      "Epoch 102/1000\n",
      "185/185 [==============================] - 0s 70us/sample - loss: 0.0502 - mean_absolute_error: 0.1749 - mean_squared_error: 0.0502 - acc: 0.9027 - val_loss: 0.0398 - val_mean_absolute_error: 0.1511 - val_mean_squared_error: 0.0398 - val_acc: 0.8936\n",
      "Epoch 103/1000\n",
      "185/185 [==============================] - 0s 70us/sample - loss: 0.0501 - mean_absolute_error: 0.1739 - mean_squared_error: 0.0501 - acc: 0.8973 - val_loss: 0.0398 - val_mean_absolute_error: 0.1510 - val_mean_squared_error: 0.0398 - val_acc: 0.8936\n",
      "Epoch 104/1000\n",
      "185/185 [==============================] - 0s 81us/sample - loss: 0.0499 - mean_absolute_error: 0.1740 - mean_squared_error: 0.0499 - acc: 0.8973 - val_loss: 0.0397 - val_mean_absolute_error: 0.1508 - val_mean_squared_error: 0.0397 - val_acc: 0.8936\n",
      "Epoch 105/1000\n",
      "185/185 [==============================] - 0s 75us/sample - loss: 0.0496 - mean_absolute_error: 0.1732 - mean_squared_error: 0.0496 - acc: 0.8973 - val_loss: 0.0398 - val_mean_absolute_error: 0.1509 - val_mean_squared_error: 0.0398 - val_acc: 0.8936\n",
      "Epoch 106/1000\n",
      "185/185 [==============================] - 0s 81us/sample - loss: 0.0495 - mean_absolute_error: 0.1733 - mean_squared_error: 0.0495 - acc: 0.8973 - val_loss: 0.0397 - val_mean_absolute_error: 0.1503 - val_mean_squared_error: 0.0397 - val_acc: 0.8936\n",
      "Epoch 107/1000\n",
      "185/185 [==============================] - 0s 81us/sample - loss: 0.0493 - mean_absolute_error: 0.1726 - mean_squared_error: 0.0493 - acc: 0.8973 - val_loss: 0.0397 - val_mean_absolute_error: 0.1503 - val_mean_squared_error: 0.0397 - val_acc: 0.8936\n",
      "Epoch 108/1000\n",
      "185/185 [==============================] - 0s 75us/sample - loss: 0.0493 - mean_absolute_error: 0.1720 - mean_squared_error: 0.0493 - acc: 0.8973 - val_loss: 0.0401 - val_mean_absolute_error: 0.1517 - val_mean_squared_error: 0.0401 - val_acc: 0.8936\n",
      "Epoch 109/1000\n",
      "185/185 [==============================] - 0s 81us/sample - loss: 0.0491 - mean_absolute_error: 0.1731 - mean_squared_error: 0.0491 - acc: 0.8973 - val_loss: 0.0394 - val_mean_absolute_error: 0.1497 - val_mean_squared_error: 0.0394 - val_acc: 0.8936\n",
      "Epoch 110/1000\n",
      "185/185 [==============================] - 0s 70us/sample - loss: 0.0490 - mean_absolute_error: 0.1709 - mean_squared_error: 0.0490 - acc: 0.9027 - val_loss: 0.0399 - val_mean_absolute_error: 0.1510 - val_mean_squared_error: 0.0399 - val_acc: 0.8936\n",
      "Epoch 111/1000\n",
      "185/185 [==============================] - 0s 75us/sample - loss: 0.0492 - mean_absolute_error: 0.1721 - mean_squared_error: 0.0492 - acc: 0.8973 - val_loss: 0.0396 - val_mean_absolute_error: 0.1504 - val_mean_squared_error: 0.0396 - val_acc: 0.8936\n",
      "Epoch 112/1000\n",
      "185/185 [==============================] - 0s 81us/sample - loss: 0.0488 - mean_absolute_error: 0.1711 - mean_squared_error: 0.0488 - acc: 0.8973 - val_loss: 0.0399 - val_mean_absolute_error: 0.1513 - val_mean_squared_error: 0.0399 - val_acc: 0.8936\n",
      "Epoch 113/1000\n",
      "185/185 [==============================] - 0s 81us/sample - loss: 0.0488 - mean_absolute_error: 0.1725 - mean_squared_error: 0.0488 - acc: 0.8973 - val_loss: 0.0392 - val_mean_absolute_error: 0.1494 - val_mean_squared_error: 0.0392 - val_acc: 0.8936\n",
      "Epoch 114/1000\n",
      "185/185 [==============================] - 0s 75us/sample - loss: 0.0485 - mean_absolute_error: 0.1708 - mean_squared_error: 0.0485 - acc: 0.8973 - val_loss: 0.0392 - val_mean_absolute_error: 0.1493 - val_mean_squared_error: 0.0392 - val_acc: 0.8936\n",
      "Epoch 115/1000\n",
      "185/185 [==============================] - 0s 75us/sample - loss: 0.0484 - mean_absolute_error: 0.1707 - mean_squared_error: 0.0484 - acc: 0.8973 - val_loss: 0.0392 - val_mean_absolute_error: 0.1493 - val_mean_squared_error: 0.0392 - val_acc: 0.8936\n",
      "Epoch 116/1000\n",
      "185/185 [==============================] - 0s 75us/sample - loss: 0.0482 - mean_absolute_error: 0.1702 - mean_squared_error: 0.0482 - acc: 0.8973 - val_loss: 0.0393 - val_mean_absolute_error: 0.1492 - val_mean_squared_error: 0.0393 - val_acc: 0.8936\n",
      "Epoch 117/1000\n",
      "185/185 [==============================] - 0s 75us/sample - loss: 0.0482 - mean_absolute_error: 0.1703 - mean_squared_error: 0.0482 - acc: 0.8973 - val_loss: 0.0394 - val_mean_absolute_error: 0.1492 - val_mean_squared_error: 0.0394 - val_acc: 0.8936\n",
      "Epoch 118/1000\n",
      "185/185 [==============================] - 0s 75us/sample - loss: 0.0482 - mean_absolute_error: 0.1700 - mean_squared_error: 0.0482 - acc: 0.8973 - val_loss: 0.0395 - val_mean_absolute_error: 0.1497 - val_mean_squared_error: 0.0395 - val_acc: 0.8936\n",
      "Epoch 119/1000\n",
      "185/185 [==============================] - 0s 81us/sample - loss: 0.0478 - mean_absolute_error: 0.1698 - mean_squared_error: 0.0478 - acc: 0.8973 - val_loss: 0.0394 - val_mean_absolute_error: 0.1495 - val_mean_squared_error: 0.0394 - val_acc: 0.8936\n",
      "Epoch 120/1000\n",
      "185/185 [==============================] - 0s 81us/sample - loss: 0.0480 - mean_absolute_error: 0.1700 - mean_squared_error: 0.0480 - acc: 0.8973 - val_loss: 0.0396 - val_mean_absolute_error: 0.1499 - val_mean_squared_error: 0.0396 - val_acc: 0.8936\n",
      "Epoch 121/1000\n",
      "185/185 [==============================] - 0s 81us/sample - loss: 0.0476 - mean_absolute_error: 0.1696 - mean_squared_error: 0.0476 - acc: 0.8973 - val_loss: 0.0391 - val_mean_absolute_error: 0.1487 - val_mean_squared_error: 0.0391 - val_acc: 0.8936\n",
      "Epoch 122/1000\n",
      "185/185 [==============================] - 0s 70us/sample - loss: 0.0475 - mean_absolute_error: 0.1685 - mean_squared_error: 0.0475 - acc: 0.8973 - val_loss: 0.0393 - val_mean_absolute_error: 0.1492 - val_mean_squared_error: 0.0393 - val_acc: 0.8936\n",
      "Epoch 123/1000\n",
      "185/185 [==============================] - 0s 81us/sample - loss: 0.0477 - mean_absolute_error: 0.1696 - mean_squared_error: 0.0477 - acc: 0.9027 - val_loss: 0.0391 - val_mean_absolute_error: 0.1488 - val_mean_squared_error: 0.0391 - val_acc: 0.8936\n"
     ]
    },
    {
     "name": "stdout",
     "output_type": "stream",
     "text": [
      "Epoch 124/1000\n",
      "185/185 [==============================] - 0s 75us/sample - loss: 0.0474 - mean_absolute_error: 0.1685 - mean_squared_error: 0.0474 - acc: 0.8973 - val_loss: 0.0391 - val_mean_absolute_error: 0.1488 - val_mean_squared_error: 0.0391 - val_acc: 0.8936\n",
      "Epoch 125/1000\n",
      "185/185 [==============================] - 0s 81us/sample - loss: 0.0477 - mean_absolute_error: 0.1706 - mean_squared_error: 0.0477 - acc: 0.8973 - val_loss: 0.0388 - val_mean_absolute_error: 0.1486 - val_mean_squared_error: 0.0388 - val_acc: 0.8936\n",
      "Epoch 126/1000\n",
      "185/185 [==============================] - 0s 86us/sample - loss: 0.0474 - mean_absolute_error: 0.1687 - mean_squared_error: 0.0474 - acc: 0.8973 - val_loss: 0.0390 - val_mean_absolute_error: 0.1484 - val_mean_squared_error: 0.0390 - val_acc: 0.8936\n",
      "Epoch 127/1000\n",
      "185/185 [==============================] - ETA: 0s - loss: 0.0481 - mean_absolute_error: 0.1716 - mean_squared_error: 0.0481 - acc: 0.84 - 0s 81us/sample - loss: 0.0472 - mean_absolute_error: 0.1684 - mean_squared_error: 0.0472 - acc: 0.9027 - val_loss: 0.0391 - val_mean_absolute_error: 0.1484 - val_mean_squared_error: 0.0391 - val_acc: 0.8936\n",
      "Epoch 128/1000\n",
      "185/185 [==============================] - 0s 70us/sample - loss: 0.0471 - mean_absolute_error: 0.1681 - mean_squared_error: 0.0471 - acc: 0.8973 - val_loss: 0.0392 - val_mean_absolute_error: 0.1483 - val_mean_squared_error: 0.0392 - val_acc: 0.8936\n",
      "Epoch 129/1000\n",
      "185/185 [==============================] - 0s 65us/sample - loss: 0.0470 - mean_absolute_error: 0.1680 - mean_squared_error: 0.0470 - acc: 0.8973 - val_loss: 0.0391 - val_mean_absolute_error: 0.1484 - val_mean_squared_error: 0.0391 - val_acc: 0.8936\n",
      "Epoch 130/1000\n",
      "185/185 [==============================] - 0s 65us/sample - loss: 0.0469 - mean_absolute_error: 0.1680 - mean_squared_error: 0.0469 - acc: 0.8973 - val_loss: 0.0392 - val_mean_absolute_error: 0.1483 - val_mean_squared_error: 0.0392 - val_acc: 0.8936\n",
      "Epoch 131/1000\n",
      "185/185 [==============================] - 0s 70us/sample - loss: 0.0470 - mean_absolute_error: 0.1684 - mean_squared_error: 0.0470 - acc: 0.8973 - val_loss: 0.0387 - val_mean_absolute_error: 0.1483 - val_mean_squared_error: 0.0387 - val_acc: 0.8936\n",
      "Epoch 132/1000\n",
      "185/185 [==============================] - 0s 70us/sample - loss: 0.0470 - mean_absolute_error: 0.1673 - mean_squared_error: 0.0470 - acc: 0.8973 - val_loss: 0.0388 - val_mean_absolute_error: 0.1481 - val_mean_squared_error: 0.0388 - val_acc: 0.8936\n",
      "Epoch 133/1000\n",
      "185/185 [==============================] - 0s 70us/sample - loss: 0.0479 - mean_absolute_error: 0.1702 - mean_squared_error: 0.0479 - acc: 0.8973 - val_loss: 0.0388 - val_mean_absolute_error: 0.1485 - val_mean_squared_error: 0.0388 - val_acc: 0.8936\n",
      "Epoch 134/1000\n",
      "185/185 [==============================] - 0s 65us/sample - loss: 0.0469 - mean_absolute_error: 0.1664 - mean_squared_error: 0.0469 - acc: 0.8973 - val_loss: 0.0390 - val_mean_absolute_error: 0.1483 - val_mean_squared_error: 0.0390 - val_acc: 0.8936\n",
      "Epoch 135/1000\n",
      "185/185 [==============================] - 0s 70us/sample - loss: 0.0463 - mean_absolute_error: 0.1668 - mean_squared_error: 0.0463 - acc: 0.8973 - val_loss: 0.0388 - val_mean_absolute_error: 0.1479 - val_mean_squared_error: 0.0388 - val_acc: 0.8936\n",
      "Epoch 136/1000\n",
      "185/185 [==============================] - 0s 65us/sample - loss: 0.0462 - mean_absolute_error: 0.1667 - mean_squared_error: 0.0462 - acc: 0.8973 - val_loss: 0.0388 - val_mean_absolute_error: 0.1478 - val_mean_squared_error: 0.0388 - val_acc: 0.8936\n",
      "Epoch 137/1000\n",
      "185/185 [==============================] - 0s 65us/sample - loss: 0.0464 - mean_absolute_error: 0.1663 - mean_squared_error: 0.0464 - acc: 0.8973 - val_loss: 0.0387 - val_mean_absolute_error: 0.1477 - val_mean_squared_error: 0.0387 - val_acc: 0.8936\n",
      "Epoch 138/1000\n",
      "185/185 [==============================] - 0s 70us/sample - loss: 0.0463 - mean_absolute_error: 0.1664 - mean_squared_error: 0.0463 - acc: 0.8973 - val_loss: 0.0387 - val_mean_absolute_error: 0.1478 - val_mean_squared_error: 0.0387 - val_acc: 0.8936\n",
      "Epoch 139/1000\n",
      "185/185 [==============================] - 0s 65us/sample - loss: 0.0462 - mean_absolute_error: 0.1655 - mean_squared_error: 0.0462 - acc: 0.8973 - val_loss: 0.0389 - val_mean_absolute_error: 0.1480 - val_mean_squared_error: 0.0389 - val_acc: 0.8936\n",
      "Epoch 140/1000\n",
      "185/185 [==============================] - 0s 70us/sample - loss: 0.0459 - mean_absolute_error: 0.1658 - mean_squared_error: 0.0459 - acc: 0.8973 - val_loss: 0.0389 - val_mean_absolute_error: 0.1478 - val_mean_squared_error: 0.0389 - val_acc: 0.8936\n",
      "Epoch 141/1000\n",
      "185/185 [==============================] - 0s 70us/sample - loss: 0.0459 - mean_absolute_error: 0.1656 - mean_squared_error: 0.0459 - acc: 0.8973 - val_loss: 0.0391 - val_mean_absolute_error: 0.1479 - val_mean_squared_error: 0.0391 - val_acc: 0.8936\n",
      "Epoch 142/1000\n",
      "185/185 [==============================] - 0s 70us/sample - loss: 0.0458 - mean_absolute_error: 0.1658 - mean_squared_error: 0.0458 - acc: 0.8973 - val_loss: 0.0390 - val_mean_absolute_error: 0.1477 - val_mean_squared_error: 0.0390 - val_acc: 0.8936\n",
      "Epoch 143/1000\n",
      "185/185 [==============================] - 0s 70us/sample - loss: 0.0460 - mean_absolute_error: 0.1655 - mean_squared_error: 0.0460 - acc: 0.8973 - val_loss: 0.0389 - val_mean_absolute_error: 0.1475 - val_mean_squared_error: 0.0389 - val_acc: 0.8936\n",
      "Epoch 144/1000\n",
      "185/185 [==============================] - 0s 70us/sample - loss: 0.0457 - mean_absolute_error: 0.1657 - mean_squared_error: 0.0457 - acc: 0.8973 - val_loss: 0.0385 - val_mean_absolute_error: 0.1475 - val_mean_squared_error: 0.0385 - val_acc: 0.8936\n",
      "Epoch 145/1000\n",
      "185/185 [==============================] - 0s 70us/sample - loss: 0.0456 - mean_absolute_error: 0.1644 - mean_squared_error: 0.0456 - acc: 0.8973 - val_loss: 0.0389 - val_mean_absolute_error: 0.1479 - val_mean_squared_error: 0.0389 - val_acc: 0.8936\n",
      "Epoch 146/1000\n",
      "185/185 [==============================] - 0s 70us/sample - loss: 0.0454 - mean_absolute_error: 0.1652 - mean_squared_error: 0.0454 - acc: 0.8973 - val_loss: 0.0387 - val_mean_absolute_error: 0.1473 - val_mean_squared_error: 0.0387 - val_acc: 0.8936\n",
      "Epoch 147/1000\n",
      "185/185 [==============================] - 0s 75us/sample - loss: 0.0455 - mean_absolute_error: 0.1650 - mean_squared_error: 0.0455 - acc: 0.8973 - val_loss: 0.0385 - val_mean_absolute_error: 0.1473 - val_mean_squared_error: 0.0385 - val_acc: 0.8936\n",
      "Epoch 148/1000\n",
      "185/185 [==============================] - 0s 70us/sample - loss: 0.0458 - mean_absolute_error: 0.1641 - mean_squared_error: 0.0458 - acc: 0.8973 - val_loss: 0.0389 - val_mean_absolute_error: 0.1476 - val_mean_squared_error: 0.0389 - val_acc: 0.8936\n",
      "Epoch 149/1000\n",
      "185/185 [==============================] - 0s 65us/sample - loss: 0.0453 - mean_absolute_error: 0.1642 - mean_squared_error: 0.0453 - acc: 0.8973 - val_loss: 0.0390 - val_mean_absolute_error: 0.1478 - val_mean_squared_error: 0.0390 - val_acc: 0.8936\n",
      "Epoch 150/1000\n",
      "185/185 [==============================] - 0s 65us/sample - loss: 0.0452 - mean_absolute_error: 0.1646 - mean_squared_error: 0.0452 - acc: 0.8973 - val_loss: 0.0386 - val_mean_absolute_error: 0.1473 - val_mean_squared_error: 0.0386 - val_acc: 0.8936\n",
      "Epoch 151/1000\n",
      "185/185 [==============================] - 0s 65us/sample - loss: 0.0454 - mean_absolute_error: 0.1642 - mean_squared_error: 0.0454 - acc: 0.8973 - val_loss: 0.0392 - val_mean_absolute_error: 0.1481 - val_mean_squared_error: 0.0392 - val_acc: 0.8936\n",
      "Epoch 152/1000\n",
      "185/185 [==============================] - 0s 70us/sample - loss: 0.0455 - mean_absolute_error: 0.1654 - mean_squared_error: 0.0455 - acc: 0.9027 - val_loss: 0.0384 - val_mean_absolute_error: 0.1470 - val_mean_squared_error: 0.0384 - val_acc: 0.8936\n",
      "Epoch 153/1000\n",
      "185/185 [==============================] - 0s 65us/sample - loss: 0.0452 - mean_absolute_error: 0.1639 - mean_squared_error: 0.0452 - acc: 0.8973 - val_loss: 0.0385 - val_mean_absolute_error: 0.1472 - val_mean_squared_error: 0.0385 - val_acc: 0.8936\n",
      "Epoch 154/1000\n"
     ]
    },
    {
     "name": "stdout",
     "output_type": "stream",
     "text": [
      "185/185 [==============================] - 0s 75us/sample - loss: 0.0449 - mean_absolute_error: 0.1636 - mean_squared_error: 0.0449 - acc: 0.8973 - val_loss: 0.0385 - val_mean_absolute_error: 0.1470 - val_mean_squared_error: 0.0385 - val_acc: 0.8936\n",
      "Epoch 155/1000\n",
      "185/185 [==============================] - 0s 86us/sample - loss: 0.0450 - mean_absolute_error: 0.1644 - mean_squared_error: 0.0450 - acc: 0.8973 - val_loss: 0.0384 - val_mean_absolute_error: 0.1470 - val_mean_squared_error: 0.0384 - val_acc: 0.8936\n",
      "Epoch 156/1000\n",
      "185/185 [==============================] - 0s 65us/sample - loss: 0.0448 - mean_absolute_error: 0.1624 - mean_squared_error: 0.0448 - acc: 0.8973 - val_loss: 0.0385 - val_mean_absolute_error: 0.1471 - val_mean_squared_error: 0.0385 - val_acc: 0.8936\n",
      "Epoch 157/1000\n",
      "185/185 [==============================] - 0s 65us/sample - loss: 0.0448 - mean_absolute_error: 0.1635 - mean_squared_error: 0.0448 - acc: 0.8973 - val_loss: 0.0385 - val_mean_absolute_error: 0.1472 - val_mean_squared_error: 0.0385 - val_acc: 0.8936\n",
      "Epoch 158/1000\n",
      "185/185 [==============================] - 0s 65us/sample - loss: 0.0451 - mean_absolute_error: 0.1650 - mean_squared_error: 0.0451 - acc: 0.8973 - val_loss: 0.0384 - val_mean_absolute_error: 0.1467 - val_mean_squared_error: 0.0384 - val_acc: 0.8936\n",
      "Epoch 159/1000\n",
      "185/185 [==============================] - 0s 65us/sample - loss: 0.0447 - mean_absolute_error: 0.1623 - mean_squared_error: 0.0447 - acc: 0.8973 - val_loss: 0.0387 - val_mean_absolute_error: 0.1474 - val_mean_squared_error: 0.0387 - val_acc: 0.8936\n",
      "Epoch 160/1000\n",
      "185/185 [==============================] - 0s 75us/sample - loss: 0.0447 - mean_absolute_error: 0.1637 - mean_squared_error: 0.0447 - acc: 0.8973 - val_loss: 0.0382 - val_mean_absolute_error: 0.1468 - val_mean_squared_error: 0.0382 - val_acc: 0.8936\n",
      "Epoch 161/1000\n",
      "185/185 [==============================] - 0s 65us/sample - loss: 0.0452 - mean_absolute_error: 0.1646 - mean_squared_error: 0.0452 - acc: 0.8973 - val_loss: 0.0382 - val_mean_absolute_error: 0.1470 - val_mean_squared_error: 0.0382 - val_acc: 0.8936\n",
      "Epoch 162/1000\n",
      "185/185 [==============================] - 0s 70us/sample - loss: 0.0445 - mean_absolute_error: 0.1616 - mean_squared_error: 0.0445 - acc: 0.8973 - val_loss: 0.0385 - val_mean_absolute_error: 0.1471 - val_mean_squared_error: 0.0385 - val_acc: 0.8936\n",
      "Epoch 163/1000\n",
      "185/185 [==============================] - 0s 65us/sample - loss: 0.0448 - mean_absolute_error: 0.1640 - mean_squared_error: 0.0448 - acc: 0.8973 - val_loss: 0.0384 - val_mean_absolute_error: 0.1466 - val_mean_squared_error: 0.0384 - val_acc: 0.8936\n",
      "Epoch 164/1000\n",
      "185/185 [==============================] - 0s 65us/sample - loss: 0.0444 - mean_absolute_error: 0.1620 - mean_squared_error: 0.0444 - acc: 0.8973 - val_loss: 0.0383 - val_mean_absolute_error: 0.1468 - val_mean_squared_error: 0.0383 - val_acc: 0.8936\n",
      "Epoch 165/1000\n",
      "185/185 [==============================] - 0s 65us/sample - loss: 0.0443 - mean_absolute_error: 0.1624 - mean_squared_error: 0.0443 - acc: 0.8973 - val_loss: 0.0382 - val_mean_absolute_error: 0.1466 - val_mean_squared_error: 0.0382 - val_acc: 0.8936\n",
      "Epoch 166/1000\n",
      "185/185 [==============================] - 0s 70us/sample - loss: 0.0442 - mean_absolute_error: 0.1617 - mean_squared_error: 0.0442 - acc: 0.8973 - val_loss: 0.0385 - val_mean_absolute_error: 0.1468 - val_mean_squared_error: 0.0385 - val_acc: 0.8936\n",
      "Epoch 167/1000\n",
      "185/185 [==============================] - 0s 65us/sample - loss: 0.0443 - mean_absolute_error: 0.1631 - mean_squared_error: 0.0443 - acc: 0.8973 - val_loss: 0.0382 - val_mean_absolute_error: 0.1467 - val_mean_squared_error: 0.0382 - val_acc: 0.8936\n",
      "Epoch 168/1000\n",
      "185/185 [==============================] - 0s 70us/sample - loss: 0.0442 - mean_absolute_error: 0.1613 - mean_squared_error: 0.0442 - acc: 0.8973 - val_loss: 0.0382 - val_mean_absolute_error: 0.1468 - val_mean_squared_error: 0.0382 - val_acc: 0.8936\n",
      "Epoch 169/1000\n",
      "185/185 [==============================] - 0s 70us/sample - loss: 0.0442 - mean_absolute_error: 0.1620 - mean_squared_error: 0.0442 - acc: 0.8973 - val_loss: 0.0383 - val_mean_absolute_error: 0.1469 - val_mean_squared_error: 0.0383 - val_acc: 0.8936\n",
      "Epoch 170/1000\n",
      "185/185 [==============================] - 0s 70us/sample - loss: 0.0441 - mean_absolute_error: 0.1622 - mean_squared_error: 0.0441 - acc: 0.8973 - val_loss: 0.0382 - val_mean_absolute_error: 0.1466 - val_mean_squared_error: 0.0382 - val_acc: 0.8936\n",
      "Epoch 171/1000\n",
      "185/185 [==============================] - 0s 62us/sample - loss: 0.0440 - mean_absolute_error: 0.1611 - mean_squared_error: 0.0440 - acc: 0.8973 - val_loss: 0.0384 - val_mean_absolute_error: 0.1471 - val_mean_squared_error: 0.0384 - val_acc: 0.8936\n",
      "Epoch 172/1000\n",
      "185/185 [==============================] - 0s 70us/sample - loss: 0.0440 - mean_absolute_error: 0.1617 - mean_squared_error: 0.0440 - acc: 0.8973 - val_loss: 0.0383 - val_mean_absolute_error: 0.1465 - val_mean_squared_error: 0.0383 - val_acc: 0.8936\n",
      "Epoch 173/1000\n",
      "185/185 [==============================] - 0s 70us/sample - loss: 0.0439 - mean_absolute_error: 0.1609 - mean_squared_error: 0.0439 - acc: 0.8973 - val_loss: 0.0383 - val_mean_absolute_error: 0.1468 - val_mean_squared_error: 0.0383 - val_acc: 0.8936\n",
      "Epoch 174/1000\n",
      "185/185 [==============================] - 0s 75us/sample - loss: 0.0437 - mean_absolute_error: 0.1611 - mean_squared_error: 0.0437 - acc: 0.8973 - val_loss: 0.0381 - val_mean_absolute_error: 0.1466 - val_mean_squared_error: 0.0381 - val_acc: 0.8936\n",
      "Epoch 175/1000\n",
      "185/185 [==============================] - 0s 70us/sample - loss: 0.0439 - mean_absolute_error: 0.1615 - mean_squared_error: 0.0439 - acc: 0.8973 - val_loss: 0.0381 - val_mean_absolute_error: 0.1463 - val_mean_squared_error: 0.0381 - val_acc: 0.8936\n",
      "Epoch 176/1000\n",
      "185/185 [==============================] - 0s 70us/sample - loss: 0.0443 - mean_absolute_error: 0.1610 - mean_squared_error: 0.0443 - acc: 0.8973 - val_loss: 0.0383 - val_mean_absolute_error: 0.1466 - val_mean_squared_error: 0.0383 - val_acc: 0.8936\n",
      "Epoch 177/1000\n",
      "185/185 [==============================] - 0s 75us/sample - loss: 0.0435 - mean_absolute_error: 0.1608 - mean_squared_error: 0.0435 - acc: 0.8973 - val_loss: 0.0382 - val_mean_absolute_error: 0.1464 - val_mean_squared_error: 0.0382 - val_acc: 0.8936\n",
      "Epoch 178/1000\n",
      "185/185 [==============================] - 0s 70us/sample - loss: 0.0435 - mean_absolute_error: 0.1605 - mean_squared_error: 0.0435 - acc: 0.8973 - val_loss: 0.0383 - val_mean_absolute_error: 0.1464 - val_mean_squared_error: 0.0383 - val_acc: 0.8936\n",
      "Epoch 179/1000\n",
      "185/185 [==============================] - 0s 81us/sample - loss: 0.0435 - mean_absolute_error: 0.1601 - mean_squared_error: 0.0435 - acc: 0.8973 - val_loss: 0.0381 - val_mean_absolute_error: 0.1465 - val_mean_squared_error: 0.0381 - val_acc: 0.8936\n",
      "Epoch 180/1000\n",
      "185/185 [==============================] - 0s 70us/sample - loss: 0.0440 - mean_absolute_error: 0.1608 - mean_squared_error: 0.0440 - acc: 0.8973 - val_loss: 0.0379 - val_mean_absolute_error: 0.1464 - val_mean_squared_error: 0.0379 - val_acc: 0.8936\n",
      "Epoch 181/1000\n",
      "185/185 [==============================] - 0s 70us/sample - loss: 0.0436 - mean_absolute_error: 0.1603 - mean_squared_error: 0.0436 - acc: 0.8973 - val_loss: 0.0383 - val_mean_absolute_error: 0.1467 - val_mean_squared_error: 0.0383 - val_acc: 0.8936\n",
      "Epoch 182/1000\n",
      "185/185 [==============================] - 0s 70us/sample - loss: 0.0434 - mean_absolute_error: 0.1600 - mean_squared_error: 0.0434 - acc: 0.8973 - val_loss: 0.0384 - val_mean_absolute_error: 0.1469 - val_mean_squared_error: 0.0384 - val_acc: 0.8936\n",
      "Epoch 183/1000\n",
      "185/185 [==============================] - 0s 70us/sample - loss: 0.0434 - mean_absolute_error: 0.1609 - mean_squared_error: 0.0434 - acc: 0.8973 - val_loss: 0.0381 - val_mean_absolute_error: 0.1462 - val_mean_squared_error: 0.0381 - val_acc: 0.8936\n",
      "Epoch 184/1000\n",
      "185/185 [==============================] - 0s 81us/sample - loss: 0.0436 - mean_absolute_error: 0.1592 - mean_squared_error: 0.0436 - acc: 0.8973 - val_loss: 0.0382 - val_mean_absolute_error: 0.1465 - val_mean_squared_error: 0.0382 - val_acc: 0.8936\n"
     ]
    },
    {
     "name": "stdout",
     "output_type": "stream",
     "text": [
      "Epoch 185/1000\n",
      "185/185 [==============================] - 0s 81us/sample - loss: 0.0433 - mean_absolute_error: 0.1599 - mean_squared_error: 0.0433 - acc: 0.8973 - val_loss: 0.0385 - val_mean_absolute_error: 0.1467 - val_mean_squared_error: 0.0385 - val_acc: 0.8936\n",
      "Epoch 186/1000\n",
      "185/185 [==============================] - 0s 81us/sample - loss: 0.0433 - mean_absolute_error: 0.1595 - mean_squared_error: 0.0433 - acc: 0.9027 - val_loss: 0.0382 - val_mean_absolute_error: 0.1467 - val_mean_squared_error: 0.0382 - val_acc: 0.8936\n",
      "Epoch 187/1000\n",
      "185/185 [==============================] - 0s 70us/sample - loss: 0.0431 - mean_absolute_error: 0.1598 - mean_squared_error: 0.0431 - acc: 0.8973 - val_loss: 0.0384 - val_mean_absolute_error: 0.1467 - val_mean_squared_error: 0.0384 - val_acc: 0.8936\n",
      "Epoch 188/1000\n",
      "185/185 [==============================] - 0s 70us/sample - loss: 0.0435 - mean_absolute_error: 0.1606 - mean_squared_error: 0.0435 - acc: 0.8973 - val_loss: 0.0382 - val_mean_absolute_error: 0.1463 - val_mean_squared_error: 0.0382 - val_acc: 0.8936\n",
      "Epoch 189/1000\n",
      "185/185 [==============================] - 0s 70us/sample - loss: 0.0432 - mean_absolute_error: 0.1593 - mean_squared_error: 0.0432 - acc: 0.8973 - val_loss: 0.0380 - val_mean_absolute_error: 0.1463 - val_mean_squared_error: 0.0380 - val_acc: 0.8936\n",
      "Epoch 190/1000\n",
      "185/185 [==============================] - 0s 286us/sample - loss: 0.0432 - mean_absolute_error: 0.1597 - mean_squared_error: 0.0432 - acc: 0.8973 - val_loss: 0.0382 - val_mean_absolute_error: 0.1464 - val_mean_squared_error: 0.0382 - val_acc: 0.8936\n",
      "100/100 [==============================] - 0s 60us/sample - loss: 0.0412 - mean_absolute_error: 0.1520 - mean_squared_error: 0.0412 - acc: 0.9600\n",
      "Test loss: 0.04122420534491539\n",
      "Test mae: 0.15203108\n",
      "Test mse: 0.041224204\n",
      "Test acc: 0.96\n"
     ]
    }
   ],
   "source": [
    "callback = tf.keras.callbacks.EarlyStopping(monitor='val_loss', patience=10, restore_best_weights=True)\n",
    "history = model.fit(X_train, y_train,\n",
    "                    batch_size=64,\n",
    "                    callbacks=[callback],\n",
    "                    epochs=1000,\n",
    "                    validation_data=(X_val, y_val))\n",
    "\n",
    "test_scores = model.evaluate(X_test, y_test, batch_size=32)\n",
    "print('Test loss:', test_scores[0])\n",
    "print('Test mae:', test_scores[1])\n",
    "print('Test mse:', test_scores[2])\n",
    "print('Test acc:', test_scores[3])"
   ]
  },
  {
   "cell_type": "code",
   "execution_count": 45,
   "metadata": {},
   "outputs": [
    {
     "data": {
      "image/png": "[encoded data removed]",
      "text/plain": [
       "<Figure size 1152x864 with 4 Axes>"
      ]
     },
     "metadata": {
      "needs_background": "dark"
     },
     "output_type": "display_data"
    }
   ],
   "source": [
    "plot_history(history)"
   ]
  },
  {
   "cell_type": "code",
   "execution_count": 46,
   "metadata": {},
   "outputs": [],
   "source": [
    "muestra = X_test[0]\n",
    "#muestra.reshape(1,64)"
   ]
  },
  {
   "cell_type": "code",
   "execution_count": 47,
   "metadata": {},
   "outputs": [
    {
     "data": {
      "text/plain": [
       "array([[-1.14776881, -0.73781833],\n",
       "       [ 0.17174691,  0.26305741],\n",
       "       [-0.45005329, -0.18782761],\n",
       "       [ 0.75981566,  1.43821237]])"
      ]
     },
     "execution_count": 47,
     "metadata": {},
     "output_type": "execute_result"
    }
   ],
   "source": [
    "y_test[0:4]"
   ]
  },
  {
   "cell_type": "code",
   "execution_count": 48,
   "metadata": {},
   "outputs": [],
   "source": [
    "y_predic= model.predict(X_test)"
   ]
  },
  {
   "cell_type": "code",
   "execution_count": 49,
   "metadata": {},
   "outputs": [],
   "source": [
    "r = y_test - y_predic"
   ]
  },
  {
   "cell_type": "code",
   "execution_count": 50,
   "metadata": {},
   "outputs": [
    {
     "data": {
      "text/plain": [
       "0.002051248316462735"
      ]
     },
     "execution_count": 50,
     "metadata": {},
     "output_type": "execute_result"
    }
   ],
   "source": [
    "r.mean()"
   ]
  },
  {
   "cell_type": "code",
   "execution_count": 51,
   "metadata": {},
   "outputs": [
    {
     "data": {
      "image/png": "[encoded data removed]",
      "text/plain": [
       "<Figure size 432x288 with 1 Axes>"
      ]
     },
     "metadata": {
      "needs_background": "dark"
     },
     "output_type": "display_data"
    }
   ],
   "source": [
    "\n",
    "plt.hist(r, bins = 25)\n",
    "plt.xlabel(\"Prediction Error [MPG]\")\n",
    "_ = plt.ylabel(\"Count\")"
   ]
  },
  {
   "cell_type": "markdown",
   "metadata": {},
   "source": [
    "<h3>Guardar el modelo entrenado </h3>"
   ]
  },
  {
   "cell_type": "markdown",
   "metadata": {},
   "source": [
    "El modelo que fue generado atravez del entrenamiento es guardado con la finalidad de utilizarlo sin la necesidad de volver a entrenar"
   ]
  },
  {
   "cell_type": "code",
   "execution_count": 39,
   "metadata": {},
   "outputs": [],
   "source": [
    "#model.save('modelo_serie_electrica3.h5')"
   ]
  },
  {
   "cell_type": "markdown",
   "metadata": {},
   "source": [
    "<h2>Adicion de ruido blanco a la serie de Tiempo</h2>"
   ]
  },
  {
   "cell_type": "markdown",
   "metadata": {},
   "source": [
    "En esta sección se añade el ruido blanco en la señal, para lo cual primero se dividira la señal en conjunto de entrenamiento y conjunto de prueba"
   ]
  },
  {
   "cell_type": "code",
   "execution_count": 40,
   "metadata": {},
   "outputs": [
    {
     "ename": "NameError",
     "evalue": "name 'serie_e' is not defined",
     "output_type": "error",
     "traceback": [
      "\u001b[1;31m---------------------------------------------------------------------------\u001b[0m",
      "\u001b[1;31mNameError\u001b[0m                                 Traceback (most recent call last)",
      "\u001b[1;32m<ipython-input-40-75fc9ce95f18>\u001b[0m in \u001b[0;36m<module>\u001b[1;34m\u001b[0m\n\u001b[1;32m----> 1\u001b[1;33m \u001b[0mX_train_e\u001b[0m\u001b[1;33m,\u001b[0m \u001b[0mX_val_e\u001b[0m\u001b[1;33m,\u001b[0m \u001b[0my_train_e\u001b[0m\u001b[1;33m,\u001b[0m \u001b[0my_val_e\u001b[0m \u001b[1;33m=\u001b[0m  \u001b[0mGenersConjuntos\u001b[0m\u001b[1;33m(\u001b[0m\u001b[0mserie_e\u001b[0m\u001b[1;33m,\u001b[0m \u001b[1;36m0.3\u001b[0m\u001b[1;33m,\u001b[0m \u001b[1;36m0.2\u001b[0m\u001b[1;33m)\u001b[0m\u001b[1;33m\u001b[0m\u001b[1;33m\u001b[0m\u001b[0m\n\u001b[0m",
      "\u001b[1;31mNameError\u001b[0m: name 'serie_e' is not defined"
     ]
    }
   ],
   "source": [
    "X_train_e, X_val_e, y_train_e, y_val_e =  GenersConjuntos(serie_e, 0.3, 0.2)"
   ]
  },
  {
   "cell_type": "code",
   "execution_count": null,
   "metadata": {},
   "outputs": [],
   "source": [
    "len = serie.size\n",
    "e = Noise(len, 1, 0)"
   ]
  },
  {
   "cell_type": "code",
   "execution_count": null,
   "metadata": {},
   "outputs": [],
   "source": [
    "X_train_e = X_train_e + e "
   ]
  },
  {
   "cell_type": "code",
   "execution_count": null,
   "metadata": {
    "scrolled": true
   },
   "outputs": [],
   "source": [
    "plt.plot(serie_e)\n",
    "plt.show()"
   ]
  },
  {
   "cell_type": "code",
   "execution_count": null,
   "metadata": {},
   "outputs": [],
   "source": [
    "modelE = ModMLPR()"
   ]
  },
  {
   "cell_type": "code",
   "execution_count": null,
   "metadata": {},
   "outputs": [],
   "source": [
    "modelE.compile(loss=\"mean_squared_error\", optimizer=\"sgd\", metrics=['mae', 'mse','accuracy'])"
   ]
  },
  {
   "cell_type": "code",
   "execution_count": null,
   "metadata": {},
   "outputs": [],
   "source": [
    "callback = tf.keras.callbacks.EarlyStopping(monitor='val_loss', patience=30, restore_best_weights=True)\n",
    "history = modelE.fit(X_train, y_train,\n",
    "                    batch_size=64,\n",
    "                    callbacks=[callback],\n",
    "                    epochs=200,\n",
    "                    validation_data=(X_val, y_val))\n",
    "\n",
    "test_scores = modelE.evaluate(X_test, y_test, batch_size=32)\n",
    "print('Test loss:', test_scores[0])\n",
    "print('Test accuracy:', test_scores[1])"
   ]
  },
  {
   "cell_type": "code",
   "execution_count": null,
   "metadata": {},
   "outputs": [],
   "source": [
    "plot_history(history)"
   ]
  },
  {
   "cell_type": "code",
   "execution_count": null,
   "metadata": {},
   "outputs": [],
   "source": []
  }
 ],
 "metadata": {
  "kernelspec": {
   "display_name": "Python 3",
   "language": "python",
   "name": "python3"
  },
  "language_info": {
   "codemirror_mode": {
    "name": "ipython",
    "version": 3
   },
   "file_extension": ".py",
   "mimetype": "text/x-python",
   "name": "python",
   "nbconvert_exporter": "python",
   "pygments_lexer": "ipython3",
   "version": "3.7.4"
  }
 },
 "nbformat": 4,
 "nbformat_minor": 2
}
